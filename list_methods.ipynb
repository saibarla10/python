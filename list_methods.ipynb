{
  "nbformat": 4,
  "nbformat_minor": 0,
  "metadata": {
    "colab": {
      "provenance": []
    },
    "kernelspec": {
      "name": "python3",
      "display_name": "Python 3"
    },
    "language_info": {
      "name": "python"
    }
  },
  "cells": [
    {
      "cell_type": "markdown",
      "source": [
        "# Explain about list?\n",
        "- collection of elements, values, items.\n",
        "- list is represented by using square bracket[], and each element is divided by\n",
        "  using coma (,)\n",
        "- it is mutable"
      ],
      "metadata": {
        "id": "eEFkjLjvAoB8"
      }
    },
    {
      "cell_type": "code",
      "source": [
        "# examples"
      ],
      "metadata": {
        "id": "QYrfo3mhBeTq"
      },
      "execution_count": null,
      "outputs": []
    },
    {
      "cell_type": "code",
      "source": [
        "age = [1,2,3,4,5]\n",
        "print(age)"
      ],
      "metadata": {
        "colab": {
          "base_uri": "https://localhost:8080/"
        },
        "id": "uF-90KMOBmHr",
        "outputId": "1efd5cc2-09a2-4606-d408-b456fe10dc3f"
      },
      "execution_count": null,
      "outputs": [
        {
          "output_type": "stream",
          "name": "stdout",
          "text": [
            "[1, 2, 3, 4, 5]\n"
          ]
        }
      ]
    },
    {
      "cell_type": "code",
      "source": [
        "speed = [100,200,30,40]\n",
        "print(speed)"
      ],
      "metadata": {
        "colab": {
          "base_uri": "https://localhost:8080/"
        },
        "id": "_uL46vJsBzIR",
        "outputId": "029c4dd2-dce9-459b-9334-5540b5b60f48"
      },
      "execution_count": null,
      "outputs": [
        {
          "output_type": "stream",
          "name": "stdout",
          "text": [
            "[100, 200, 30, 40]\n"
          ]
        }
      ]
    },
    {
      "cell_type": "code",
      "source": [
        "char = ['s','d','e','f',]\n",
        "print(char)"
      ],
      "metadata": {
        "colab": {
          "base_uri": "https://localhost:8080/"
        },
        "id": "6b2Yz6n3CEGh",
        "outputId": "17421388-cd99-410a-b007-3cbe4dab23ae"
      },
      "execution_count": null,
      "outputs": [
        {
          "output_type": "stream",
          "name": "stdout",
          "text": [
            "['s', 'd', 'e', 'f']\n"
          ]
        }
      ]
    },
    {
      "cell_type": "code",
      "source": [
        "mul = [24,3.14,3 + 3j,True,'teks']\n",
        "print(mul)"
      ],
      "metadata": {
        "colab": {
          "base_uri": "https://localhost:8080/"
        },
        "id": "hTvjT2sgDOn5",
        "outputId": "2ba047e0-ed26-4fa4-ae40-145f293b6caf"
      },
      "execution_count": null,
      "outputs": [
        {
          "output_type": "stream",
          "name": "stdout",
          "text": [
            "[24, 3.14, (3+3j), True, 'teks']\n"
          ]
        }
      ]
    },
    {
      "cell_type": "code",
      "source": [],
      "metadata": {
        "id": "CobqFPQMEBfZ"
      },
      "execution_count": null,
      "outputs": []
    },
    {
      "cell_type": "markdown",
      "source": [
        "# Explain about index?\n",
        "- index is a numeric value represents the position of an element in a list.\n",
        "- index allows you to access and manipulate the elements in list.\n",
        "- index are two types 1. positive and 2. negitive index.\n",
        "- positive starts from 0 to infinity.\n",
        "- negitive starts from -1 to -infinity."
      ],
      "metadata": {
        "id": "0iwjNiwMECvh"
      }
    },
    {
      "cell_type": "code",
      "source": [
        "index = [1,2,4,'Teks','Reddy',True]\n",
        "index[3]"
      ],
      "metadata": {
        "colab": {
          "base_uri": "https://localhost:8080/",
          "height": 35
        },
        "id": "2l8gF06vGppx",
        "outputId": "eed31879-1fb9-4ee7-c694-1056302f0152"
      },
      "execution_count": null,
      "outputs": [
        {
          "output_type": "execute_result",
          "data": {
            "text/plain": [
              "'Teks'"
            ],
            "application/vnd.google.colaboratory.intrinsic+json": {
              "type": "string"
            }
          },
          "metadata": {},
          "execution_count": 8
        }
      ]
    },
    {
      "cell_type": "code",
      "source": [
        "index = [1,2,3,'Teks','Reddy',True]\n",
        "index[-1]"
      ],
      "metadata": {
        "colab": {
          "base_uri": "https://localhost:8080/"
        },
        "id": "FX12YL6kHHB4",
        "outputId": "f3e3c835-777e-44ac-dd64-4091120f3c8f"
      },
      "execution_count": null,
      "outputs": [
        {
          "output_type": "execute_result",
          "data": {
            "text/plain": [
              "True"
            ]
          },
          "metadata": {},
          "execution_count": 11
        }
      ]
    },
    {
      "cell_type": "code",
      "source": [
        "speed = [100,110,400,320]\n",
        "speed[3]"
      ],
      "metadata": {
        "colab": {
          "base_uri": "https://localhost:8080/"
        },
        "id": "Kb4xFEZCHVIP",
        "outputId": "12c3f939-57db-41a8-d0d0-591f15f93376"
      },
      "execution_count": null,
      "outputs": [
        {
          "output_type": "execute_result",
          "data": {
            "text/plain": [
              "320"
            ]
          },
          "metadata": {},
          "execution_count": 10
        }
      ]
    },
    {
      "cell_type": "code",
      "source": [
        "weight = [80,45,21,44,22]\n",
        "weight[-3]"
      ],
      "metadata": {
        "colab": {
          "base_uri": "https://localhost:8080/"
        },
        "id": "TT5IR6rMHb8n",
        "outputId": "97ab8795-22dd-42da-a40c-b32326490970"
      },
      "execution_count": null,
      "outputs": [
        {
          "output_type": "execute_result",
          "data": {
            "text/plain": [
              "21"
            ]
          },
          "metadata": {},
          "execution_count": 12
        }
      ]
    },
    {
      "cell_type": "code",
      "source": [
        "names = ['sai','bike','car','mango']\n",
        "names[-2]"
      ],
      "metadata": {
        "colab": {
          "base_uri": "https://localhost:8080/",
          "height": 35
        },
        "id": "ukIR2NiaHplH",
        "outputId": "c41d7cf0-7b51-42ad-8502-f6a75831d081"
      },
      "execution_count": null,
      "outputs": [
        {
          "output_type": "execute_result",
          "data": {
            "text/plain": [
              "'car'"
            ],
            "application/vnd.google.colaboratory.intrinsic+json": {
              "type": "string"
            }
          },
          "metadata": {},
          "execution_count": 14
        }
      ]
    },
    {
      "cell_type": "markdown",
      "source": [
        "# Explain about slicing?\n",
        "- it is used to access more than one values present in the list."
      ],
      "metadata": {
        "id": "RE_bwGU1H-Qo"
      }
    },
    {
      "cell_type": "code",
      "source": [
        "letters = [1,22,44,56,7,3,8,9]\n",
        "letters[1:4]"
      ],
      "metadata": {
        "colab": {
          "base_uri": "https://localhost:8080/"
        },
        "id": "0ZArPI8IH9gn",
        "outputId": "93bab91b-b244-4b6a-e4ed-fd19ccdb524c"
      },
      "execution_count": null,
      "outputs": [
        {
          "output_type": "execute_result",
          "data": {
            "text/plain": [
              "[22, 44, 56]"
            ]
          },
          "metadata": {},
          "execution_count": 18
        }
      ]
    },
    {
      "cell_type": "code",
      "source": [
        "names = ['sai','reddy','mango','car',]\n",
        "names[:4]"
      ],
      "metadata": {
        "colab": {
          "base_uri": "https://localhost:8080/"
        },
        "id": "pNFx1Ao1ItNY",
        "outputId": "bab63008-62a2-4542-c15b-491702a0e791"
      },
      "execution_count": null,
      "outputs": [
        {
          "output_type": "execute_result",
          "data": {
            "text/plain": [
              "['sai', 'reddy', 'mango', 'car']"
            ]
          },
          "metadata": {},
          "execution_count": 16
        }
      ]
    },
    {
      "cell_type": "code",
      "source": [
        "speed = [22,44,1,100,450,320,110,120,114]\n",
        "speed[2:7]"
      ],
      "metadata": {
        "colab": {
          "base_uri": "https://localhost:8080/"
        },
        "id": "qEDLCKf1JK5n",
        "outputId": "faf93a73-4d88-440a-9dfe-4444e5cff497"
      },
      "execution_count": null,
      "outputs": [
        {
          "output_type": "execute_result",
          "data": {
            "text/plain": [
              "[1, 100, 450, 320, 110]"
            ]
          },
          "metadata": {},
          "execution_count": 17
        }
      ]
    },
    {
      "cell_type": "code",
      "source": [
        "age = [32,33,56,43,27,12,7]\n",
        "age[-2:]"
      ],
      "metadata": {
        "colab": {
          "base_uri": "https://localhost:8080/"
        },
        "id": "mVRRZobyJifv",
        "outputId": "48f9dece-d3a3-45ba-e7f0-7bf1f01653a8"
      },
      "execution_count": null,
      "outputs": [
        {
          "output_type": "execute_result",
          "data": {
            "text/plain": [
              "[12, 7]"
            ]
          },
          "metadata": {},
          "execution_count": 19
        }
      ]
    },
    {
      "cell_type": "code",
      "source": [
        "char = ['a','v','k','e','o','u']\n",
        "char[3:5]"
      ],
      "metadata": {
        "colab": {
          "base_uri": "https://localhost:8080/"
        },
        "id": "A-5wOk7RKHyG",
        "outputId": "17525f0e-c6a4-485e-86e0-59043a2d585d"
      },
      "execution_count": null,
      "outputs": [
        {
          "output_type": "execute_result",
          "data": {
            "text/plain": [
              "['e', 'o']"
            ]
          },
          "metadata": {},
          "execution_count": 1
        }
      ]
    },
    {
      "cell_type": "markdown",
      "source": [
        "# list methods\n",
        " append() - it is a method that adds an element to the end of the list."
      ],
      "metadata": {
        "id": "viW5DtSmIYfW"
      }
    },
    {
      "cell_type": "code",
      "source": [
        "# example"
      ],
      "metadata": {
        "id": "pPznOlusI9XT"
      },
      "execution_count": null,
      "outputs": []
    },
    {
      "cell_type": "code",
      "source": [
        "friuts = [1,4,'apple','mango']\n",
        "friuts.append('banana')\n",
        "print(friuts)"
      ],
      "metadata": {
        "colab": {
          "base_uri": "https://localhost:8080/"
        },
        "id": "XDIy4GpIJAxO",
        "outputId": "735afd06-bdea-442d-95ab-4fb04b27ab9e"
      },
      "execution_count": null,
      "outputs": [
        {
          "output_type": "stream",
          "name": "stdout",
          "text": [
            "[1, 4, 'apple', 'mango', 'banana']\n"
          ]
        }
      ]
    },
    {
      "cell_type": "markdown",
      "source": [
        "# extend() - it is a method that adds multiple elements to the end of a list."
      ],
      "metadata": {
        "id": "PIeSIlAwJioR"
      }
    },
    {
      "cell_type": "code",
      "source": [
        "# example"
      ],
      "metadata": {
        "id": "RN0Mb87wJ4w7"
      },
      "execution_count": null,
      "outputs": []
    },
    {
      "cell_type": "code",
      "source": [
        "a = [1,2,3,4,5,6]\n",
        "b = ['teks','apple']\n",
        "a.extend(b)\n",
        "print(a)"
      ],
      "metadata": {
        "colab": {
          "base_uri": "https://localhost:8080/"
        },
        "id": "ZjSW2jAWJ54E",
        "outputId": "26a0c43e-f5ba-44b2-b802-bac320525cce"
      },
      "execution_count": null,
      "outputs": [
        {
          "output_type": "stream",
          "name": "stdout",
          "text": [
            "[1, 2, 3, 4, 5, 6, 'teks', 'apple']\n"
          ]
        }
      ]
    },
    {
      "cell_type": "markdown",
      "source": [
        "# pop() - it is a method that used to remove a element from list."
      ],
      "metadata": {
        "id": "1d05A-mnKr1z"
      }
    },
    {
      "cell_type": "code",
      "source": [
        "# examples"
      ],
      "metadata": {
        "id": "I46sx4TZKTc4"
      },
      "execution_count": null,
      "outputs": []
    },
    {
      "cell_type": "code",
      "source": [
        "word = ['u','w','p','s','g',]\n",
        "word.pop(3)\n",
        "print(word)"
      ],
      "metadata": {
        "colab": {
          "base_uri": "https://localhost:8080/"
        },
        "id": "Xvd85bXmK97u",
        "outputId": "1e27a236-8031-4410-9758-bfcda15c2336"
      },
      "execution_count": null,
      "outputs": [
        {
          "output_type": "stream",
          "name": "stdout",
          "text": [
            "['u', 'w', 'p', 'g']\n"
          ]
        }
      ]
    },
    {
      "cell_type": "markdown",
      "source": [
        "# insert() - insert is a method that adds on an element to a list at a specified index."
      ],
      "metadata": {
        "id": "rhQ6GaoiLjR6"
      }
    },
    {
      "cell_type": "code",
      "source": [
        "# examples"
      ],
      "metadata": {
        "id": "iEutLMgDLVVY"
      },
      "execution_count": null,
      "outputs": []
    },
    {
      "cell_type": "code",
      "source": [
        "fruits = ['apple','orange','cherry']\n",
        "fruits.insert(1,'orange')\n",
        "print(fruits)"
      ],
      "metadata": {
        "colab": {
          "base_uri": "https://localhost:8080/"
        },
        "id": "m4qAbX7ii7D4",
        "outputId": "81bf8c3e-069b-4b77-d500-63f2d00b4794"
      },
      "execution_count": null,
      "outputs": [
        {
          "output_type": "stream",
          "name": "stdout",
          "text": [
            "['apple', 'orange', 'orange', 'cherry']\n"
          ]
        }
      ]
    },
    {
      "cell_type": "markdown",
      "source": [
        "# len() - length of list element."
      ],
      "metadata": {
        "id": "pNrxNJfmjjQu"
      }
    },
    {
      "cell_type": "code",
      "source": [
        "# examples"
      ],
      "metadata": {
        "id": "eHh5SuTKjW8A"
      },
      "execution_count": null,
      "outputs": []
    },
    {
      "cell_type": "code",
      "source": [
        "king = ['Teks','academy','python']\n",
        "print(len(king))"
      ],
      "metadata": {
        "colab": {
          "base_uri": "https://localhost:8080/"
        },
        "id": "hAFJiI7hj8No",
        "outputId": "05c837ad-4e7a-4e8d-b9bb-1401f6aebfa7"
      },
      "execution_count": null,
      "outputs": [
        {
          "output_type": "stream",
          "name": "stdout",
          "text": [
            "3\n"
          ]
        }
      ]
    },
    {
      "cell_type": "markdown",
      "source": [
        "# count() - to count the frequency of elements."
      ],
      "metadata": {
        "id": "KLjCuEC1k9Q4"
      }
    },
    {
      "cell_type": "code",
      "source": [
        "# examples"
      ],
      "metadata": {
        "id": "yT_AKB_Ukd7s"
      },
      "execution_count": null,
      "outputs": []
    },
    {
      "cell_type": "code",
      "source": [
        "num = [1,2,3,3,2,5,8,0,0,0,6,7,5,7,20]\n",
        "print(num.count(0))"
      ],
      "metadata": {
        "colab": {
          "base_uri": "https://localhost:8080/"
        },
        "id": "Pf5IBqe3lJg4",
        "outputId": "3a992923-9d5a-4b2b-df20-69cf588cf2a7"
      },
      "execution_count": null,
      "outputs": [
        {
          "output_type": "stream",
          "name": "stdout",
          "text": [
            "3\n"
          ]
        }
      ]
    },
    {
      "cell_type": "markdown",
      "source": [
        "# sort() - To arrange the list of elements in ascending order."
      ],
      "metadata": {
        "id": "aJzp3XePlbX5"
      }
    },
    {
      "cell_type": "code",
      "source": [
        "# examples"
      ],
      "metadata": {
        "id": "4aOeGW3dlYB8"
      },
      "execution_count": null,
      "outputs": []
    },
    {
      "cell_type": "code",
      "source": [
        "num = [1,2,53,23,78,11,31,0,45,3,68,89]\n",
        "num.sort()\n",
        "print(num)"
      ],
      "metadata": {
        "colab": {
          "base_uri": "https://localhost:8080/"
        },
        "id": "3PXibIoFln1v",
        "outputId": "086c1381-9a8c-4683-9a11-b916c424e410"
      },
      "execution_count": null,
      "outputs": [
        {
          "output_type": "stream",
          "name": "stdout",
          "text": [
            "[0, 1, 2, 3, 11, 23, 31, 45, 53, 68, 78, 89]\n"
          ]
        }
      ]
    },
    {
      "cell_type": "markdown",
      "source": [
        "# reverse() - to reverse the list of elements"
      ],
      "metadata": {
        "id": "sOojDK1wl9A-"
      }
    },
    {
      "cell_type": "code",
      "source": [
        "# examples"
      ],
      "metadata": {
        "id": "ayb-Y0-vl6ro"
      },
      "execution_count": null,
      "outputs": []
    },
    {
      "cell_type": "code",
      "source": [
        "rev = [1,2,3,4,5,6]\n",
        "rev.reverse()\n",
        "print(rev)"
      ],
      "metadata": {
        "colab": {
          "base_uri": "https://localhost:8080/"
        },
        "id": "wgrKeUuImQQI",
        "outputId": "41c642a9-670e-486b-809c-4730d1475472"
      },
      "execution_count": null,
      "outputs": [
        {
          "output_type": "stream",
          "name": "stdout",
          "text": [
            "[6, 5, 4, 3, 2, 1]\n"
          ]
        }
      ]
    },
    {
      "cell_type": "code",
      "source": [
        "rev.sort()\n",
        "rev"
      ],
      "metadata": {
        "colab": {
          "base_uri": "https://localhost:8080/"
        },
        "id": "dGJ35-EFmjNm",
        "outputId": "976f0fbb-c8b0-4ef1-eb55-39d0f2dbe2c1"
      },
      "execution_count": null,
      "outputs": [
        {
          "output_type": "execute_result",
          "data": {
            "text/plain": [
              "[1, 2, 3, 4, 5, 6]"
            ]
          },
          "metadata": {},
          "execution_count": 2
        }
      ]
    },
    {
      "cell_type": "markdown",
      "source": [
        "# copy() - to copy the entire list of elements."
      ],
      "metadata": {
        "id": "rwAmu61nSMmD"
      }
    },
    {
      "cell_type": "code",
      "source": [
        "# examples"
      ],
      "metadata": {
        "id": "UxvK9rMomtRw"
      },
      "execution_count": null,
      "outputs": []
    },
    {
      "cell_type": "code",
      "source": [
        "num = [1,2,3,4,5,6,]\n",
        "num.copy()\n",
        "print(num)"
      ],
      "metadata": {
        "colab": {
          "base_uri": "https://localhost:8080/"
        },
        "id": "FEHPLD8XSYS1",
        "outputId": "b7ede1b1-c220-4d90-99d2-a6c3b3ad12dd"
      },
      "execution_count": null,
      "outputs": [
        {
          "output_type": "stream",
          "name": "stdout",
          "text": [
            "[1, 2, 3, 4, 5, 6]\n"
          ]
        }
      ]
    }
  ]
}