{
  "nbformat": 4,
  "nbformat_minor": 0,
  "metadata": {
    "colab": {
      "provenance": []
    },
    "kernelspec": {
      "name": "python3",
      "display_name": "Python 3"
    },
    "language_info": {
      "name": "python"
    }
  },
  "cells": [
    {
      "cell_type": "code",
      "execution_count": null,
      "metadata": {
        "id": "yPMDyNFM-Te4"
      },
      "outputs": [],
      "source": []
    },
    {
      "cell_type": "markdown",
      "source": [
        "# what is python?\n",
        "- it is a high level programming which is used to develop the web applications, data analysis, machine learnig etc...,"
      ],
      "metadata": {
        "id": "a7ueSK3b-YZv"
      }
    },
    {
      "cell_type": "markdown",
      "source": [
        "# why we use python?\n",
        "- python is very easy to understand by humans.Easy to connect with data base."
      ],
      "metadata": {
        "id": "qZdvPQra-r0t"
      }
    },
    {
      "cell_type": "markdown",
      "source": [
        "# Applications of python\n",
        "- web developement\n",
        "- data analysis\n",
        "- game developement\n",
        "- machine learning\n",
        "- data visualization\n",
        "- education sector\n",
        "- automation\n",
        "- internet of things (IOT)"
      ],
      "metadata": {
        "id": "L3wKRF-F_T6A"
      }
    },
    {
      "cell_type": "markdown",
      "source": [
        "# Explain about comments with example?\n",
        "- comments are used to add notes or explanations to your code."
      ],
      "metadata": {
        "id": "zqnf11px_5Cl"
      }
    },
    {
      "cell_type": "markdown",
      "source": [
        "# Types of comments\n",
        "- single type\n",
        "- multi type"
      ],
      "metadata": {
        "id": "8GC5nronBwWd"
      }
    },
    {
      "cell_type": "markdown",
      "source": [
        "# Explain about keywords with example?\n",
        "- keywords are used to define some data types."
      ],
      "metadata": {
        "id": "nsFvV9qYCXpS"
      }
    },
    {
      "cell_type": "markdown",
      "source": [
        "# There are 35 keywords in python\n",
        "- and\n",
        "- as\n",
        "- assert\n",
        "- async\n",
        "- break\n",
        "- class\n",
        "- await\n",
        "- def\n",
        "- del\n",
        "- elif\n",
        "- else\n",
        "- except\n",
        "- for\n",
        "- finally\n",
        "- from\n",
        "- if\n",
        "- in\n",
        "- is\n",
        "- not\n",
        "- or\n",
        "- false\n",
        "- none\n",
        "- true\n",
        "- pass\n",
        "- return\n",
        "- with"
      ],
      "metadata": {
        "id": "h7WEyR-aDaFu"
      }
    },
    {
      "cell_type": "markdown",
      "source": [
        "# Explain about variables with examples?\n",
        "- variable is a name given to value. variables are used to store and manipulate data in a program."
      ],
      "metadata": {
        "id": "wp1934uMEfM4"
      }
    },
    {
      "cell_type": "code",
      "source": [
        "a = 6"
      ],
      "metadata": {
        "id": "-wUDO-FEE0dj"
      },
      "execution_count": 4,
      "outputs": []
    },
    {
      "cell_type": "code",
      "source": [
        "y = 7"
      ],
      "metadata": {
        "id": "84MgZGEaFw_M"
      },
      "execution_count": 5,
      "outputs": []
    },
    {
      "cell_type": "code",
      "source": [],
      "metadata": {
        "id": "hV4wNWh2Fyik"
      },
      "execution_count": null,
      "outputs": []
    }
  ]
}