{
  "nbformat": 4,
  "nbformat_minor": 0,
  "metadata": {
    "colab": {
      "provenance": []
    },
    "kernelspec": {
      "name": "python3",
      "display_name": "Python 3"
    },
    "language_info": {
      "name": "python"
    }
  },
  "cells": [
    {
      "cell_type": "markdown",
      "source": [
        "# Explain about list?\n",
        "- collection of elements, values, items.\n",
        "- list is represented by using square bracket[], and each element is divided by\n",
        "  using coma (,)\n",
        "- it is mutable"
      ],
      "metadata": {
        "id": "eEFkjLjvAoB8"
      }
    },
    {
      "cell_type": "code",
      "source": [
        "# examples"
      ],
      "metadata": {
        "id": "QYrfo3mhBeTq"
      },
      "execution_count": null,
      "outputs": []
    },
    {
      "cell_type": "code",
      "source": [
        "age = [1,2,3,4,5]\n",
        "print(age)"
      ],
      "metadata": {
        "colab": {
          "base_uri": "https://localhost:8080/"
        },
        "id": "uF-90KMOBmHr",
        "outputId": "1efd5cc2-09a2-4606-d408-b456fe10dc3f"
      },
      "execution_count": null,
      "outputs": [
        {
          "output_type": "stream",
          "name": "stdout",
          "text": [
            "[1, 2, 3, 4, 5]\n"
          ]
        }
      ]
    },
    {
      "cell_type": "code",
      "source": [
        "speed = [100,200,30,40]\n",
        "print(speed)"
      ],
      "metadata": {
        "colab": {
          "base_uri": "https://localhost:8080/"
        },
        "id": "_uL46vJsBzIR",
        "outputId": "029c4dd2-dce9-459b-9334-5540b5b60f48"
      },
      "execution_count": null,
      "outputs": [
        {
          "output_type": "stream",
          "name": "stdout",
          "text": [
            "[100, 200, 30, 40]\n"
          ]
        }
      ]
    },
    {
      "cell_type": "code",
      "source": [
        "char = ['s','d','e','f',]\n",
        "print(char)"
      ],
      "metadata": {
        "colab": {
          "base_uri": "https://localhost:8080/"
        },
        "id": "6b2Yz6n3CEGh",
        "outputId": "17421388-cd99-410a-b007-3cbe4dab23ae"
      },
      "execution_count": null,
      "outputs": [
        {
          "output_type": "stream",
          "name": "stdout",
          "text": [
            "['s', 'd', 'e', 'f']\n"
          ]
        }
      ]
    },
    {
      "cell_type": "code",
      "source": [
        "mul = [24,3.14,3 + 3j,True,'teks']\n",
        "print(mul)"
      ],
      "metadata": {
        "colab": {
          "base_uri": "https://localhost:8080/"
        },
        "id": "hTvjT2sgDOn5",
        "outputId": "2ba047e0-ed26-4fa4-ae40-145f293b6caf"
      },
      "execution_count": null,
      "outputs": [
        {
          "output_type": "stream",
          "name": "stdout",
          "text": [
            "[24, 3.14, (3+3j), True, 'teks']\n"
          ]
        }
      ]
    },
    {
      "cell_type": "code",
      "source": [],
      "metadata": {
        "id": "CobqFPQMEBfZ"
      },
      "execution_count": null,
      "outputs": []
    },
    {
      "cell_type": "markdown",
      "source": [
        "# Explain about index?\n",
        "- index is a numeric value represents the position of an element in a list.\n",
        "- index allows you to access and manipulate the elements in list.\n",
        "- index are two types 1. positive and 2. negitive index.\n",
        "- positive starts from 0 to infinity.\n",
        "- negitive starts from -1 to -infinity."
      ],
      "metadata": {
        "id": "0iwjNiwMECvh"
      }
    },
    {
      "cell_type": "code",
      "source": [
        "index = [1,2,4,'Teks','Reddy',True]\n",
        "index[3]"
      ],
      "metadata": {
        "colab": {
          "base_uri": "https://localhost:8080/",
          "height": 35
        },
        "id": "2l8gF06vGppx",
        "outputId": "eed31879-1fb9-4ee7-c694-1056302f0152"
      },
      "execution_count": null,
      "outputs": [
        {
          "output_type": "execute_result",
          "data": {
            "text/plain": [
              "'Teks'"
            ],
            "application/vnd.google.colaboratory.intrinsic+json": {
              "type": "string"
            }
          },
          "metadata": {},
          "execution_count": 8
        }
      ]
    },
    {
      "cell_type": "code",
      "source": [
        "index = [1,2,3,'Teks','Reddy',True]\n",
        "index[-1]"
      ],
      "metadata": {
        "colab": {
          "base_uri": "https://localhost:8080/"
        },
        "id": "FX12YL6kHHB4",
        "outputId": "f3e3c835-777e-44ac-dd64-4091120f3c8f"
      },
      "execution_count": null,
      "outputs": [
        {
          "output_type": "execute_result",
          "data": {
            "text/plain": [
              "True"
            ]
          },
          "metadata": {},
          "execution_count": 11
        }
      ]
    },
    {
      "cell_type": "code",
      "source": [
        "speed = [100,110,400,320]\n",
        "speed[3]"
      ],
      "metadata": {
        "colab": {
          "base_uri": "https://localhost:8080/"
        },
        "id": "Kb4xFEZCHVIP",
        "outputId": "12c3f939-57db-41a8-d0d0-591f15f93376"
      },
      "execution_count": null,
      "outputs": [
        {
          "output_type": "execute_result",
          "data": {
            "text/plain": [
              "320"
            ]
          },
          "metadata": {},
          "execution_count": 10
        }
      ]
    },
    {
      "cell_type": "code",
      "source": [
        "weight = [80,45,21,44,22]\n",
        "weight[-3]"
      ],
      "metadata": {
        "colab": {
          "base_uri": "https://localhost:8080/"
        },
        "id": "TT5IR6rMHb8n",
        "outputId": "97ab8795-22dd-42da-a40c-b32326490970"
      },
      "execution_count": null,
      "outputs": [
        {
          "output_type": "execute_result",
          "data": {
            "text/plain": [
              "21"
            ]
          },
          "metadata": {},
          "execution_count": 12
        }
      ]
    },
    {
      "cell_type": "code",
      "source": [
        "names = ['sai','bike','car','mango']\n",
        "names[-2]"
      ],
      "metadata": {
        "colab": {
          "base_uri": "https://localhost:8080/",
          "height": 35
        },
        "id": "ukIR2NiaHplH",
        "outputId": "c41d7cf0-7b51-42ad-8502-f6a75831d081"
      },
      "execution_count": null,
      "outputs": [
        {
          "output_type": "execute_result",
          "data": {
            "text/plain": [
              "'car'"
            ],
            "application/vnd.google.colaboratory.intrinsic+json": {
              "type": "string"
            }
          },
          "metadata": {},
          "execution_count": 14
        }
      ]
    },
    {
      "cell_type": "markdown",
      "source": [
        "# Explain about slicing?\n",
        "- it is used to access more than one values present in the list."
      ],
      "metadata": {
        "id": "RE_bwGU1H-Qo"
      }
    },
    {
      "cell_type": "code",
      "source": [
        "letters = [1,22,44,56,7,3,8,9]\n",
        "letters[1:4]"
      ],
      "metadata": {
        "colab": {
          "base_uri": "https://localhost:8080/"
        },
        "id": "0ZArPI8IH9gn",
        "outputId": "93bab91b-b244-4b6a-e4ed-fd19ccdb524c"
      },
      "execution_count": null,
      "outputs": [
        {
          "output_type": "execute_result",
          "data": {
            "text/plain": [
              "[22, 44, 56]"
            ]
          },
          "metadata": {},
          "execution_count": 18
        }
      ]
    },
    {
      "cell_type": "code",
      "source": [
        "names = ['sai','reddy','mango','car',]\n",
        "names[:4]"
      ],
      "metadata": {
        "colab": {
          "base_uri": "https://localhost:8080/"
        },
        "id": "pNFx1Ao1ItNY",
        "outputId": "bab63008-62a2-4542-c15b-491702a0e791"
      },
      "execution_count": null,
      "outputs": [
        {
          "output_type": "execute_result",
          "data": {
            "text/plain": [
              "['sai', 'reddy', 'mango', 'car']"
            ]
          },
          "metadata": {},
          "execution_count": 16
        }
      ]
    },
    {
      "cell_type": "code",
      "source": [
        "speed = [22,44,1,100,450,320,110,120,114]\n",
        "speed[2:7]"
      ],
      "metadata": {
        "colab": {
          "base_uri": "https://localhost:8080/"
        },
        "id": "qEDLCKf1JK5n",
        "outputId": "faf93a73-4d88-440a-9dfe-4444e5cff497"
      },
      "execution_count": null,
      "outputs": [
        {
          "output_type": "execute_result",
          "data": {
            "text/plain": [
              "[1, 100, 450, 320, 110]"
            ]
          },
          "metadata": {},
          "execution_count": 17
        }
      ]
    },
    {
      "cell_type": "code",
      "source": [
        "age = [32,33,56,43,27,12,7]\n",
        "age[-2:]"
      ],
      "metadata": {
        "colab": {
          "base_uri": "https://localhost:8080/"
        },
        "id": "mVRRZobyJifv",
        "outputId": "48f9dece-d3a3-45ba-e7f0-7bf1f01653a8"
      },
      "execution_count": null,
      "outputs": [
        {
          "output_type": "execute_result",
          "data": {
            "text/plain": [
              "[12, 7]"
            ]
          },
          "metadata": {},
          "execution_count": 19
        }
      ]
    },
    {
      "cell_type": "code",
      "source": [
        "char = ['a','v','k','e','o','u']\n",
        "char[3:5]"
      ],
      "metadata": {
        "colab": {
          "base_uri": "https://localhost:8080/"
        },
        "id": "A-5wOk7RKHyG",
        "outputId": "2905d4ac-bee5-4d43-841d-aac4f0d582b0"
      },
      "execution_count": null,
      "outputs": [
        {
          "output_type": "execute_result",
          "data": {
            "text/plain": [
              "['e', 'o']"
            ]
          },
          "metadata": {},
          "execution_count": 21
        }
      ]
    }
  ]
}