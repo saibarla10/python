{
  "nbformat": 4,
  "nbformat_minor": 0,
  "metadata": {
    "colab": {
      "provenance": []
    },
    "kernelspec": {
      "name": "python3",
      "display_name": "Python 3"
    },
    "language_info": {
      "name": "python"
    }
  },
  "cells": [
    {
      "cell_type": "code",
      "execution_count": null,
      "metadata": {
        "id": "4AWIBzDbqHum"
      },
      "outputs": [],
      "source": [
        "# what is python?\n",
        "# python is a programming language that is used for a variety of tasks, including web development, automation, data analysis, machine learning, gaming, etc."
      ]
    },
    {
      "cell_type": "code",
      "source": [
        "# why we use python?\n",
        "# python is easy to understand and easy to use. it is high level langauge understand by humans easily.\n",
        "# easy to connect and store database."
      ],
      "metadata": {
        "id": "Z0sa-0oxq8_4"
      },
      "execution_count": null,
      "outputs": []
    },
    {
      "cell_type": "code",
      "source": [
        "# applications of python?\n",
        "# 1. web development\n",
        "# 2. scientific and numeric\n",
        "# 3. education\n",
        "# 4. desktop GUIs\n",
        "# 5. software development\n",
        "# 6. business applications"
      ],
      "metadata": {
        "id": "YT4XHIWtrndw"
      },
      "execution_count": null,
      "outputs": []
    },
    {
      "cell_type": "code",
      "source": [
        "# explain about comments with examples?\n",
        "# comment is a piece of text within your code that is ignored by the interper, used to add explanations or notes to make your code more readable and understandable for both yourself and others.you create a comment by starting a line with a '#' symbol."
      ],
      "metadata": {
        "id": "nwDVT74Xtkdc"
      },
      "execution_count": null,
      "outputs": []
    },
    {
      "cell_type": "code",
      "source": [
        "# explain about keywords with examples?\n",
        "# keywords are reserved words specific meanings that are predefined by the language and cannot be used as varaible names, function names, or any other identifier."
      ],
      "metadata": {
        "id": "8jwm8g0xvYRi"
      },
      "execution_count": null,
      "outputs": []
    },
    {
      "cell_type": "code",
      "source": [
        "# expain about variables with examples?\n",
        "# A variable is a named container that stores a value, essentially acting as a placeholder for data that can be used and changed throughout your program."
      ],
      "metadata": {
        "id": "zuuY-ZVvwNox"
      },
      "execution_count": null,
      "outputs": []
    }
  ]
}