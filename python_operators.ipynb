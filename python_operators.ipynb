{
  "nbformat": 4,
  "nbformat_minor": 0,
  "metadata": {
    "colab": {
      "provenance": []
    },
    "kernelspec": {
      "name": "python3",
      "display_name": "Python 3"
    },
    "language_info": {
      "name": "python"
    }
  },
  "cells": [
    {
      "cell_type": "markdown",
      "source": [
        "python operators"
      ],
      "metadata": {
        "id": "3I7tIPmbjiU9"
      }
    },
    {
      "cell_type": "markdown",
      "source": [
        "1. Arithmetic operator: it is used with numeric values to perform common mathematical operations."
      ],
      "metadata": {
        "id": "c-cDFcYpjn5c"
      }
    },
    {
      "cell_type": "code",
      "execution_count": null,
      "metadata": {
        "colab": {
          "base_uri": "https://localhost:8080/"
        },
        "id": "_JVhtZAtjaPG",
        "outputId": "9e21556d-4722-4ed3-f12f-964a6f3ac3cd"
      },
      "outputs": [
        {
          "output_type": "stream",
          "name": "stdout",
          "text": [
            "26\n",
            "18\n",
            "88\n",
            "5.5\n",
            "4\n",
            "234256\n",
            "5\n"
          ]
        }
      ],
      "source": [
        "a = 22\n",
        "b = 4\n",
        "print(a+b)\n",
        "print(a-b)\n",
        "print(a*b)\n",
        "print(a/b)\n",
        "print(a&b)\n",
        "print(a**b)\n",
        "print(a//b)"
      ]
    },
    {
      "cell_type": "markdown",
      "source": [
        "2. comparision operator: it is used to compare two values."
      ],
      "metadata": {
        "id": "CqwLIaNFkN_m"
      }
    },
    {
      "cell_type": "code",
      "source": [
        "a = 22\n",
        "b = 4\n",
        "print(a==b)\n",
        "print(a!=b)\n",
        "print(a>b)\n",
        "print(a<b)\n",
        "print(a>=b)\n",
        "print(a<=b)"
      ],
      "metadata": {
        "colab": {
          "base_uri": "https://localhost:8080/"
        },
        "id": "uK2PbU4QkdnL",
        "outputId": "37e7a75c-886b-4821-f1a1-bfc4f7c71792"
      },
      "execution_count": null,
      "outputs": [
        {
          "output_type": "stream",
          "name": "stdout",
          "text": [
            "False\n",
            "True\n",
            "True\n",
            "False\n",
            "True\n",
            "False\n"
          ]
        }
      ]
    },
    {
      "cell_type": "markdown",
      "source": [
        "3. assignment operator: it is combination of both arithmetic and assignment operation."
      ],
      "metadata": {
        "id": "BTSLBialkwqG"
      }
    },
    {
      "cell_type": "code",
      "source": [
        "a = 22\n",
        "b = 4\n",
        "a+=b\n",
        "print(a)"
      ],
      "metadata": {
        "colab": {
          "base_uri": "https://localhost:8080/"
        },
        "id": "ZlVJ4HQ3kuJ8",
        "outputId": "5ec709ea-4c14-4d54-f789-48beb7e6440c"
      },
      "execution_count": null,
      "outputs": [
        {
          "output_type": "stream",
          "name": "stdout",
          "text": [
            "26\n"
          ]
        }
      ]
    },
    {
      "cell_type": "code",
      "source": [
        "a -= b\n",
        "print(a)"
      ],
      "metadata": {
        "colab": {
          "base_uri": "https://localhost:8080/"
        },
        "id": "9k2Sjt_Gl5Yl",
        "outputId": "192c8990-25f0-484d-ee5a-89b38179fb39"
      },
      "execution_count": null,
      "outputs": [
        {
          "output_type": "stream",
          "name": "stdout",
          "text": [
            "22\n"
          ]
        }
      ]
    },
    {
      "cell_type": "code",
      "source": [
        "a*=b\n",
        "print(a)"
      ],
      "metadata": {
        "colab": {
          "base_uri": "https://localhost:8080/"
        },
        "id": "Jfc-zDqul9i0",
        "outputId": "8740f893-1dec-49ea-c342-652eb4d3d358"
      },
      "execution_count": null,
      "outputs": [
        {
          "output_type": "stream",
          "name": "stdout",
          "text": [
            "88\n"
          ]
        }
      ]
    },
    {
      "cell_type": "code",
      "source": [
        "a/=b\n",
        "print(a)"
      ],
      "metadata": {
        "colab": {
          "base_uri": "https://localhost:8080/"
        },
        "id": "07KGSTb1mCTM",
        "outputId": "9dff861c-8518-444a-9334-de7feb967619"
      },
      "execution_count": null,
      "outputs": [
        {
          "output_type": "stream",
          "name": "stdout",
          "text": [
            "22.0\n"
          ]
        }
      ]
    },
    {
      "cell_type": "code",
      "source": [
        "a%=b\n",
        "print(a)"
      ],
      "metadata": {
        "colab": {
          "base_uri": "https://localhost:8080/"
        },
        "id": "IOFuGB1LmKo_",
        "outputId": "ea0eb4b1-ef43-4245-cefc-dbe338efd007"
      },
      "execution_count": null,
      "outputs": [
        {
          "output_type": "stream",
          "name": "stdout",
          "text": [
            "2.0\n"
          ]
        }
      ]
    },
    {
      "cell_type": "code",
      "source": [
        "a**=b\n",
        "print(a)"
      ],
      "metadata": {
        "colab": {
          "base_uri": "https://localhost:8080/"
        },
        "id": "9pwgsiGzmHQF",
        "outputId": "3cf69694-c42e-4437-c712-1547f93683a9"
      },
      "execution_count": null,
      "outputs": [
        {
          "output_type": "stream",
          "name": "stdout",
          "text": [
            "16.0\n"
          ]
        }
      ]
    },
    {
      "cell_type": "markdown",
      "source": [
        "4. logical operator: either one condition should be satisfy.\n",
        "\n",
        "and: returns true if both statements are true.\n",
        "\n",
        "or : returns true if one of the statement is true.\n",
        "\n",
        "not: reverse the result, returns false if the result is true."
      ],
      "metadata": {
        "id": "xYUC_yC-mTBk"
      }
    },
    {
      "cell_type": "code",
      "source": [
        "True\n",
        "True\n",
        "False\n"
      ],
      "metadata": {
        "colab": {
          "base_uri": "https://localhost:8080/"
        },
        "id": "6ao1CTZSnKv1",
        "outputId": "05cadc18-b7b0-48fd-ed77-59a80d0877ea"
      },
      "execution_count": null,
      "outputs": [
        {
          "output_type": "execute_result",
          "data": {
            "text/plain": [
              "False"
            ]
          },
          "metadata": {},
          "execution_count": 25
        }
      ]
    },
    {
      "cell_type": "markdown",
      "source": [
        "5. identity operator: it is used to compare the objects, not if they are equal, but if they are actually the same object, with the same memory location.\n",
        "\n",
        "is: true if both variables are same objects.\n",
        "\n",
        "\n",
        "ids not: true if both variables are not same object."
      ],
      "metadata": {
        "id": "N4rz3gKXtuLW"
      }
    },
    {
      "cell_type": "code",
      "source": [
        "a = 22\n",
        "b = 4\n",
        "print(a is b)\n",
        "print(a is not b)"
      ],
      "metadata": {
        "id": "ybAvE_hznVFP",
        "colab": {
          "base_uri": "https://localhost:8080/"
        },
        "outputId": "563634b2-d52a-43e0-f8e6-5e53e37176c8"
      },
      "execution_count": 26,
      "outputs": [
        {
          "output_type": "stream",
          "name": "stdout",
          "text": [
            "False\n",
            "True\n"
          ]
        }
      ]
    },
    {
      "cell_type": "markdown",
      "source": [
        "6. memebership operator: it is used to identify the sequence of the elememts.\n",
        "\n",
        "in:\n",
        "\n",
        "not in:"
      ],
      "metadata": {
        "id": "JgQoPBq3urse"
      }
    },
    {
      "cell_type": "code",
      "source": [
        "a = [1,2,3,4,5,6]\n",
        "print(1 in a)\n",
        "print(1 not in a)"
      ],
      "metadata": {
        "colab": {
          "base_uri": "https://localhost:8080/"
        },
        "id": "l1SQGCWhup2X",
        "outputId": "33bdd893-9d34-45a7-af08-010b66909efb"
      },
      "execution_count": 27,
      "outputs": [
        {
          "output_type": "stream",
          "name": "stdout",
          "text": [
            "True\n",
            "False\n"
          ]
        }
      ]
    },
    {
      "cell_type": "markdown",
      "source": [
        "7. bitwise operator: it is used to compare numbers."
      ],
      "metadata": {
        "id": "2H0ShiI6wD4f"
      }
    },
    {
      "cell_type": "markdown",
      "source": [
        "\n",
        "\n",
        "*   & (AND)\n",
        "*   | (OR)\n",
        "*   ^ (XOR)\n",
        "*   ~ (NOT)\n",
        "*   <<(LEFT SHIFT)\n",
        "*   >>(RIGHT SHIFT)"
      ],
      "metadata": {
        "id": "fgIBTMN8w5x2"
      }
    },
    {
      "cell_type": "code",
      "source": [
        "a = 22\n",
        "b = 4\n",
        "print(a&b)\n",
        "print(a|b)\n",
        "print(a^b)\n",
        "print(~a)\n",
        "print(a<<2)\n",
        "print(b<<2)\n",
        "print(a>>2)\n",
        "print(b>>2)"
      ],
      "metadata": {
        "colab": {
          "base_uri": "https://localhost:8080/"
        },
        "id": "rDG08M2fve7X",
        "outputId": "41dacfbd-06d9-4e9b-eb5b-21e1a8be7188"
      },
      "execution_count": 28,
      "outputs": [
        {
          "output_type": "stream",
          "name": "stdout",
          "text": [
            "4\n",
            "22\n",
            "18\n",
            "-23\n",
            "88\n",
            "16\n",
            "5\n",
            "1\n"
          ]
        }
      ]
    },
    {
      "cell_type": "code",
      "source": [],
      "metadata": {
        "id": "x-iZ3JwNykkI"
      },
      "execution_count": null,
      "outputs": []
    }
  ]
}