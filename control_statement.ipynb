{
  "nbformat": 4,
  "nbformat_minor": 0,
  "metadata": {
    "colab": {
      "provenance": []
    },
    "kernelspec": {
      "name": "python3",
      "display_name": "Python 3"
    },
    "language_info": {
      "name": "python"
    }
  },
  "cells": [
    {
      "cell_type": "markdown",
      "source": [
        "# control statement: flow of outputs"
      ],
      "metadata": {
        "id": "Lo5BnZ7MoRYz"
      }
    },
    {
      "cell_type": "markdown",
      "source": [
        "\n",
        "\n",
        "*   Pass\n",
        "*   Continue\n",
        "*   Break\n",
        "\n"
      ],
      "metadata": {
        "id": "u3BZzVgWoXDl"
      }
    },
    {
      "cell_type": "code",
      "execution_count": 1,
      "metadata": {
        "id": "H2c8yxYSoFs4"
      },
      "outputs": [],
      "source": [
        "# for pass example"
      ]
    },
    {
      "cell_type": "code",
      "source": [
        "for i in range (1,6):\n",
        "    if i ==2:\n",
        "        pass\n",
        "    else:\n",
        "        print(i)"
      ],
      "metadata": {
        "colab": {
          "base_uri": "https://localhost:8080/"
        },
        "id": "wCYHfQ9-ojDZ",
        "outputId": "0137b4d0-b9d0-4f81-fad4-f8c3e33757a4"
      },
      "execution_count": 4,
      "outputs": [
        {
          "output_type": "stream",
          "name": "stdout",
          "text": [
            "1\n",
            "3\n",
            "4\n",
            "5\n"
          ]
        }
      ]
    },
    {
      "cell_type": "code",
      "source": [
        "for tup in (\"apple\",\"banana\",\"cherry\"):\n",
        "       if tup == \"banana\":\n",
        "             pass\n",
        "       else:\n",
        "             print(tup)"
      ],
      "metadata": {
        "colab": {
          "base_uri": "https://localhost:8080/"
        },
        "id": "saxqPsZsouHm",
        "outputId": "e34f5e26-d681-44c8-9d75-3ea19023ccd1"
      },
      "execution_count": 7,
      "outputs": [
        {
          "output_type": "stream",
          "name": "stdout",
          "text": [
            "apple\n",
            "cherry\n"
          ]
        }
      ]
    },
    {
      "cell_type": "code",
      "source": [
        "# for continue example"
      ],
      "metadata": {
        "id": "NBMCDDl1pdgJ"
      },
      "execution_count": 8,
      "outputs": []
    },
    {
      "cell_type": "code",
      "source": [
        "for i  in range (1,10):\n",
        "    if i ==4:\n",
        "        continue\n",
        "    else:\n",
        "        print(i)"
      ],
      "metadata": {
        "colab": {
          "base_uri": "https://localhost:8080/"
        },
        "id": "ysKmKdmnp1SU",
        "outputId": "055a2dc0-3eec-4568-d751-ee8f9182c05a"
      },
      "execution_count": 10,
      "outputs": [
        {
          "output_type": "stream",
          "name": "stdout",
          "text": [
            "1\n",
            "2\n",
            "3\n",
            "5\n",
            "6\n",
            "7\n",
            "8\n",
            "9\n"
          ]
        }
      ]
    },
    {
      "cell_type": "code",
      "source": [
        "for tup in (\"apple\",\"banana\",\"cherry\",\"hero_sai\"):\n",
        "       if tup == \"cherry\":\n",
        "             continue\n",
        "       else:\n",
        "             print(tup)"
      ],
      "metadata": {
        "colab": {
          "base_uri": "https://localhost:8080/"
        },
        "id": "vvOJ6rlcp8hi",
        "outputId": "8f07a4c7-c610-477a-b2f5-8301ff524a64"
      },
      "execution_count": 12,
      "outputs": [
        {
          "output_type": "stream",
          "name": "stdout",
          "text": [
            "apple\n",
            "banana\n",
            "hero_sai\n"
          ]
        }
      ]
    },
    {
      "cell_type": "code",
      "source": [
        "# for break examples"
      ],
      "metadata": {
        "id": "craUpTWyqFSW"
      },
      "execution_count": 13,
      "outputs": []
    },
    {
      "cell_type": "code",
      "source": [
        "for i in range(1,34):\n",
        "    if i == 10:\n",
        "        break\n",
        "    else:\n",
        "      print(i)"
      ],
      "metadata": {
        "colab": {
          "base_uri": "https://localhost:8080/"
        },
        "id": "7bCD851lqSKq",
        "outputId": "59ef507e-761b-4c28-d3cf-ae38a02e9826"
      },
      "execution_count": 15,
      "outputs": [
        {
          "output_type": "stream",
          "name": "stdout",
          "text": [
            "1\n",
            "2\n",
            "3\n",
            "4\n",
            "5\n",
            "6\n",
            "7\n",
            "8\n",
            "9\n"
          ]
        }
      ]
    },
    {
      "cell_type": "code",
      "source": [
        "for string in \"python\":\n",
        "  if string == \"h\":\n",
        "    break\n",
        "  else:\n",
        "    print(string)"
      ],
      "metadata": {
        "colab": {
          "base_uri": "https://localhost:8080/"
        },
        "id": "q2O8Cxc7qfGx",
        "outputId": "b52088f6-241d-42ca-d348-10161d159a2f"
      },
      "execution_count": 17,
      "outputs": [
        {
          "output_type": "stream",
          "name": "stdout",
          "text": [
            "p\n",
            "y\n",
            "t\n"
          ]
        }
      ]
    },
    {
      "cell_type": "code",
      "source": [],
      "metadata": {
        "id": "a1b-2ymqq144"
      },
      "execution_count": null,
      "outputs": []
    }
  ]
}