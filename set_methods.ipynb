{
  "cells": [
    {
      "cell_type": "markdown",
      "source": [
        "# set()"
      ],
      "metadata": {
        "id": "Qy41CLLrDy3Z"
      }
    },
    {
      "cell_type": "markdown",
      "source": [
        "1. collection of unique elements\n",
        "2. set is unorder\n",
        "3. set doesn't allow duplicate\n",
        "4. set is mutable\n",
        "5. it is represented by {}. and seperated by \",\".\n",
        "\n"
      ],
      "metadata": {
        "id": "YD057jvkcqTg"
      }
    },
    {
      "cell_type": "code",
      "source": [
        "a = {2,8,0}\n",
        "print(a)\n",
        "print(type(a))"
      ],
      "metadata": {
        "id": "Wae5TqDiDxYR",
        "colab": {
          "base_uri": "https://localhost:8080/"
        },
        "outputId": "33d59bbf-04c0-4d07-ced1-6d56cf7d29f6"
      },
      "execution_count": 1,
      "outputs": [
        {
          "output_type": "stream",
          "name": "stdout",
          "text": [
            "{8, 0, 2}\n",
            "<class 'set'>\n"
          ]
        }
      ]
    },
    {
      "cell_type": "code",
      "source": [
        "names = {\"sai\",\"vijay\",\"sruthi\"}\n",
        "print(names)\n",
        "print(type(names))"
      ],
      "metadata": {
        "colab": {
          "base_uri": "https://localhost:8080/"
        },
        "id": "wxu56a0-dUwX",
        "outputId": "3f589ef0-6a61-47b7-f178-5485616c35bf"
      },
      "execution_count": 3,
      "outputs": [
        {
          "output_type": "stream",
          "name": "stdout",
          "text": [
            "{'sai', 'vijay', 'sruthi'}\n",
            "<class 'set'>\n"
          ]
        }
      ]
    },
    {
      "cell_type": "markdown",
      "source": [
        "we can convert list into set using the set() function."
      ],
      "metadata": {
        "id": "hJLnczLXdy3G"
      }
    },
    {
      "cell_type": "code",
      "source": [
        "a = set([1,2,3,4,5,6])\n",
        "print(a)\n",
        "print(type(a))"
      ],
      "metadata": {
        "colab": {
          "base_uri": "https://localhost:8080/"
        },
        "id": "VB6ANkGkdjv0",
        "outputId": "462470d4-3683-4d5b-cd30-ad3264d2f22d"
      },
      "execution_count": 4,
      "outputs": [
        {
          "output_type": "stream",
          "name": "stdout",
          "text": [
            "{1, 2, 3, 4, 5, 6}\n",
            "<class 'set'>\n"
          ]
        }
      ]
    },
    {
      "cell_type": "markdown",
      "source": [
        "# set methods"
      ],
      "metadata": {
        "id": "GRGjNLsceHwH"
      }
    },
    {
      "cell_type": "markdown",
      "source": [
        "1. add() adds an element to the set"
      ],
      "metadata": {
        "id": "1xbQYBX7eLiD"
      }
    },
    {
      "cell_type": "code",
      "source": [
        "a = {1,2,3,4,5}\n",
        "a.add(9)\n",
        "print(a)"
      ],
      "metadata": {
        "colab": {
          "base_uri": "https://localhost:8080/"
        },
        "id": "3BAGIOAjeCvk",
        "outputId": "da3e5398-c06b-4774-c951-0d8f944d9158"
      },
      "execution_count": 5,
      "outputs": [
        {
          "output_type": "stream",
          "name": "stdout",
          "text": [
            "{1, 2, 3, 4, 5, 9}\n"
          ]
        }
      ]
    },
    {
      "cell_type": "code",
      "source": [
        "names = {\"sai\",\"vijay\",\"sruthi\"}\n",
        "names.add(\"sairam\")\n",
        "print(names)"
      ],
      "metadata": {
        "colab": {
          "base_uri": "https://localhost:8080/"
        },
        "id": "Br-pTE5JecEZ",
        "outputId": "5867dfb1-0cc8-4d6c-9bd3-c1c7e7af169b"
      },
      "execution_count": 6,
      "outputs": [
        {
          "output_type": "stream",
          "name": "stdout",
          "text": [
            "{'sairam', 'sai', 'vijay', 'sruthi'}\n"
          ]
        }
      ]
    },
    {
      "cell_type": "markdown",
      "source": [
        "remove() removes the specified element."
      ],
      "metadata": {
        "id": "zA6IeP39eqzb"
      }
    },
    {
      "cell_type": "code",
      "source": [
        "a = {1,2,3,4,5,8}\n",
        "a.remove(3)\n",
        "print(a)"
      ],
      "metadata": {
        "colab": {
          "base_uri": "https://localhost:8080/"
        },
        "id": "VtgmAL25emMx",
        "outputId": "6755c8d0-3927-4aa0-f9d2-63d34ca8f237"
      },
      "execution_count": 7,
      "outputs": [
        {
          "output_type": "stream",
          "name": "stdout",
          "text": [
            "{1, 2, 4, 5, 8}\n"
          ]
        }
      ]
    },
    {
      "cell_type": "markdown",
      "source": [
        "update() used to add multiple elements from nother set,list,tuple or any literable to an existing set."
      ],
      "metadata": {
        "id": "wFDt71OOe9hm"
      }
    },
    {
      "cell_type": "code",
      "source": [
        "a = {1,2,3,4,5,8}\n",
        "b = {3,4,1,3}\n",
        "a.update(b)\n",
        "print(a)"
      ],
      "metadata": {
        "colab": {
          "base_uri": "https://localhost:8080/"
        },
        "id": "kbXOzZj1e7r2",
        "outputId": "cc1363d4-6f74-46bd-d6f0-68ee17d0bc26"
      },
      "execution_count": 8,
      "outputs": [
        {
          "output_type": "stream",
          "name": "stdout",
          "text": [
            "{1, 2, 3, 4, 5, 8}\n"
          ]
        }
      ]
    },
    {
      "cell_type": "markdown",
      "source": [
        "clear() used to remove all elements."
      ],
      "metadata": {
        "id": "D6RBADCifV-P"
      }
    },
    {
      "cell_type": "code",
      "source": [
        "a = {1,2,3,4,5}\n",
        "a.clear()\n",
        "print(a)"
      ],
      "metadata": {
        "colab": {
          "base_uri": "https://localhost:8080/"
        },
        "id": "FSzpH09qfTIA",
        "outputId": "2b6525ee-7cb4-4b6b-eb36-2f53d6891b81"
      },
      "execution_count": 9,
      "outputs": [
        {
          "output_type": "stream",
          "name": "stdout",
          "text": [
            "set()\n"
          ]
        }
      ]
    },
    {
      "cell_type": "markdown",
      "source": [
        "# set operaters"
      ],
      "metadata": {
        "id": "4JKnv_gcfqex"
      }
    },
    {
      "cell_type": "markdown",
      "source": [
        "1. union() it combines two or more sets."
      ],
      "metadata": {
        "id": "hherK_6TfvG3"
      }
    },
    {
      "cell_type": "code",
      "source": [
        "a = {1,2,3,4,5}\n",
        "b = {0,9,8,7,6}\n",
        "c = a.union(b)\n",
        "print(c)"
      ],
      "metadata": {
        "colab": {
          "base_uri": "https://localhost:8080/"
        },
        "id": "_JmjX7Swfknl",
        "outputId": "6fe5b6c0-2e23-49b5-f65a-5c22d89a9901"
      },
      "execution_count": 10,
      "outputs": [
        {
          "output_type": "stream",
          "name": "stdout",
          "text": [
            "{0, 1, 2, 3, 4, 5, 6, 7, 8, 9}\n"
          ]
        }
      ]
    },
    {
      "cell_type": "code",
      "source": [
        "# union of 'a' and 'b'"
      ],
      "metadata": {
        "id": "zFyxevmxgA3x"
      },
      "execution_count": 15,
      "outputs": []
    },
    {
      "cell_type": "code",
      "source": [
        "a | b"
      ],
      "metadata": {
        "colab": {
          "base_uri": "https://localhost:8080/"
        },
        "id": "LIo9YTGOgeoQ",
        "outputId": "20402302-a0c6-4e6b-c889-a784e65992d7"
      },
      "execution_count": 16,
      "outputs": [
        {
          "output_type": "execute_result",
          "data": {
            "text/plain": [
              "{0, 1, 2, 3, 4, 5, 6, 7, 8, 9}"
            ]
          },
          "metadata": {},
          "execution_count": 16
        }
      ]
    },
    {
      "cell_type": "markdown",
      "source": [
        "# intersection()\n",
        "Returns a new set containing only the common elements of two or more sets.\n",
        "\n",
        "The result may contain only unique elements that exits in all sets."
      ],
      "metadata": {
        "id": "L7yt2zCkgkZo"
      }
    },
    {
      "cell_type": "code",
      "source": [
        "a = {1,2,3,4,5}\n",
        "b = {0,9,8,7,6,5}\n",
        "c = a.intersection(b)\n",
        "print(c)"
      ],
      "metadata": {
        "colab": {
          "base_uri": "https://localhost:8080/"
        },
        "id": "hvM4O4xKgjJl",
        "outputId": "a48387d4-ac32-447b-f399-d19d9e4e2035"
      },
      "execution_count": 17,
      "outputs": [
        {
          "output_type": "stream",
          "name": "stdout",
          "text": [
            "{5}\n"
          ]
        }
      ]
    },
    {
      "cell_type": "code",
      "source": [
        "# intersection of 'a'and 'b'"
      ],
      "metadata": {
        "id": "37vTlh-thH3f"
      },
      "execution_count": 18,
      "outputs": []
    },
    {
      "cell_type": "code",
      "source": [
        "a & b"
      ],
      "metadata": {
        "colab": {
          "base_uri": "https://localhost:8080/"
        },
        "id": "towuv-P5hRsq",
        "outputId": "a40dc6f8-d67a-46ee-b790-e7ac57c07a58"
      },
      "execution_count": 19,
      "outputs": [
        {
          "output_type": "execute_result",
          "data": {
            "text/plain": [
              "{5}"
            ]
          },
          "metadata": {},
          "execution_count": 19
        }
      ]
    },
    {
      "cell_type": "code",
      "source": [
        "# difference (\"b-a\")"
      ],
      "metadata": {
        "id": "EjI2kgE7hThE"
      },
      "execution_count": 20,
      "outputs": []
    },
    {
      "cell_type": "code",
      "source": [
        "a = {1,2,3,4,5}\n",
        "b = {0,9,8,7,6,5}\n",
        "c = a.difference(b)\n",
        "print(c)"
      ],
      "metadata": {
        "colab": {
          "base_uri": "https://localhost:8080/"
        },
        "id": "HJKkm-QqhYdu",
        "outputId": "2964c08b-7474-4aab-9612-ce787ea18ce7"
      },
      "execution_count": 21,
      "outputs": [
        {
          "output_type": "stream",
          "name": "stdout",
          "text": [
            "{1, 2, 3, 4}\n"
          ]
        }
      ]
    },
    {
      "cell_type": "markdown",
      "source": [
        "symmetric difference()\n",
        "Returns a new set containing elements that are in either set A or set B, but not in both.\n",
        "\n",
        "\n",
        "you can use the ^ operater."
      ],
      "metadata": {
        "id": "6zGF_SnkhfuH"
      }
    },
    {
      "cell_type": "code",
      "source": [
        "a = {1,2,3,4,5}\n",
        "b = {3,4,5,6,7}\n",
        "result = a.symmetric_difference(b)\n",
        "print(result)"
      ],
      "metadata": {
        "colab": {
          "base_uri": "https://localhost:8080/"
        },
        "id": "Nfzef8yuhdHF",
        "outputId": "58e5b533-6921-41c1-bb67-bb82ed4eab0f"
      },
      "execution_count": 25,
      "outputs": [
        {
          "output_type": "stream",
          "name": "stdout",
          "text": [
            "{1, 2, 6, 7}\n"
          ]
        }
      ]
    },
    {
      "cell_type": "code",
      "source": [
        "a^b"
      ],
      "metadata": {
        "colab": {
          "base_uri": "https://localhost:8080/"
        },
        "id": "dH0n70hxi7ZN",
        "outputId": "d45b5438-bed3-4ca4-b9b1-7729a8ae1ca3"
      },
      "execution_count": 26,
      "outputs": [
        {
          "output_type": "execute_result",
          "data": {
            "text/plain": [
              "{1, 2, 6, 7}"
            ]
          },
          "metadata": {},
          "execution_count": 26
        }
      ]
    },
    {
      "cell_type": "code",
      "source": [],
      "metadata": {
        "id": "RsHqt08-i_O1"
      },
      "execution_count": null,
      "outputs": []
    }
  ],
  "metadata": {
    "colab": {
      "toc_visible": true,
      "provenance": []
    },
    "kernelspec": {
      "display_name": "Python 3",
      "name": "python3"
    }
  },
  "nbformat": 4,
  "nbformat_minor": 0
}