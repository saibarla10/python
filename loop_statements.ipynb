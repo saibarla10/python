{
  "nbformat": 4,
  "nbformat_minor": 0,
  "metadata": {
    "colab": {
      "provenance": []
    },
    "kernelspec": {
      "name": "python3",
      "display_name": "Python 3"
    },
    "language_info": {
      "name": "python"
    }
  },
  "cells": [
    {
      "cell_type": "markdown",
      "source": [
        "loop statement"
      ],
      "metadata": {
        "id": "guRAMN66NP-B"
      }
    },
    {
      "cell_type": "markdown",
      "source": [
        "# while - iterating with values\n",
        "\n",
        "# for   - iterating with sequence"
      ],
      "metadata": {
        "id": "R9pf3_k9Nrqy"
      }
    },
    {
      "cell_type": "code",
      "execution_count": 5,
      "metadata": {
        "id": "NRo0morw0Zwu",
        "colab": {
          "base_uri": "https://localhost:8080/"
        },
        "outputId": "1181b88c-a8f4-43ff-e4c9-e663233822c1"
      },
      "outputs": [
        {
          "output_type": "stream",
          "name": "stdout",
          "text": [
            "0\n",
            "1\n",
            "2\n",
            "3\n",
            "4\n",
            "5\n"
          ]
        }
      ],
      "source": [
        "i = 0\n",
        "while i <= 5:\n",
        "  print(i)\n",
        "  i = i + 1"
      ]
    },
    {
      "cell_type": "code",
      "source": [
        "i = 5\n",
        "while i <=100:\n",
        "    print(i)\n",
        "    i += 10"
      ],
      "metadata": {
        "colab": {
          "base_uri": "https://localhost:8080/"
        },
        "id": "UVW-M1CKOEVy",
        "outputId": "aeae0d70-1268-4805-951b-1358394ea7a5"
      },
      "execution_count": 6,
      "outputs": [
        {
          "output_type": "stream",
          "name": "stdout",
          "text": [
            "5\n",
            "15\n",
            "25\n",
            "35\n",
            "45\n",
            "55\n",
            "65\n",
            "75\n",
            "85\n",
            "95\n"
          ]
        }
      ]
    },
    {
      "cell_type": "code",
      "source": [
        "# for loop examples"
      ],
      "metadata": {
        "id": "KXvRXThhOvCx"
      },
      "execution_count": 8,
      "outputs": []
    },
    {
      "cell_type": "code",
      "source": [
        "age = [12,34,23,56,76,88]\n",
        "for i in age:\n",
        "  print(\"my age is \",i)"
      ],
      "metadata": {
        "colab": {
          "base_uri": "https://localhost:8080/"
        },
        "id": "-bILQksiQUmS",
        "outputId": "57a4f65e-b2f0-48e7-8f14-0f5e60258d18"
      },
      "execution_count": 9,
      "outputs": [
        {
          "output_type": "stream",
          "name": "stdout",
          "text": [
            "my age is  12\n",
            "my age is  34\n",
            "my age is  23\n",
            "my age is  56\n",
            "my age is  76\n",
            "my age is  88\n"
          ]
        }
      ]
    },
    {
      "cell_type": "code",
      "source": [
        "# string example"
      ],
      "metadata": {
        "id": "jOI1daF_REQR"
      },
      "execution_count": 10,
      "outputs": []
    },
    {
      "cell_type": "code",
      "source": [
        "str = \"python\"\n",
        "for y in str:\n",
        "  print(y)"
      ],
      "metadata": {
        "colab": {
          "base_uri": "https://localhost:8080/"
        },
        "id": "qcGe8rFyRKVh",
        "outputId": "ad8a8be9-b734-4693-ed63-f65c54364e1d"
      },
      "execution_count": 12,
      "outputs": [
        {
          "output_type": "stream",
          "name": "stdout",
          "text": [
            "p\n",
            "y\n",
            "t\n",
            "h\n",
            "o\n",
            "n\n"
          ]
        }
      ]
    },
    {
      "cell_type": "code",
      "source": [
        "# tup example"
      ],
      "metadata": {
        "id": "s522t3f5RRkx"
      },
      "execution_count": 13,
      "outputs": []
    },
    {
      "cell_type": "code",
      "source": [
        "tup = (\"apple\",\"banana\",\"hero_sai\")\n",
        "for hero in tup:\n",
        "  print(hero)"
      ],
      "metadata": {
        "colab": {
          "base_uri": "https://localhost:8080/"
        },
        "id": "Wd80eylmRmgh",
        "outputId": "a102f2ff-8a6f-4f0e-cc06-30990807cd64"
      },
      "execution_count": 14,
      "outputs": [
        {
          "output_type": "stream",
          "name": "stdout",
          "text": [
            "apple\n",
            "banana\n",
            "hero_sai\n"
          ]
        }
      ]
    },
    {
      "cell_type": "code",
      "source": [
        "st = {1,2,3,3,4,5,6,7,8,9,23,45,12,8,2,1,67,45,98}\n",
        "for i in st:\n",
        "  print(i)"
      ],
      "metadata": {
        "colab": {
          "base_uri": "https://localhost:8080/"
        },
        "id": "1uPoUUXFRzMS",
        "outputId": "4a1a8b33-34aa-40ee-c3e4-7151693f47b3"
      },
      "execution_count": 15,
      "outputs": [
        {
          "output_type": "stream",
          "name": "stdout",
          "text": [
            "1\n",
            "2\n",
            "3\n",
            "4\n",
            "5\n",
            "6\n",
            "7\n",
            "8\n",
            "9\n",
            "67\n",
            "98\n",
            "12\n",
            "45\n",
            "23\n"
          ]
        }
      ]
    },
    {
      "cell_type": "code",
      "source": [
        "# dictionary"
      ],
      "metadata": {
        "id": "Znh72fMlSFSi"
      },
      "execution_count": 16,
      "outputs": []
    },
    {
      "cell_type": "code",
      "source": [
        "dict1 = {\"name\":\"sai\",\"age\":\"24\",\"location\":\"vizag\"}\n",
        "for key,value in dict1.items():\n",
        "  print(key,value)"
      ],
      "metadata": {
        "colab": {
          "base_uri": "https://localhost:8080/"
        },
        "id": "2qThfp98SJGR",
        "outputId": "00d48e49-6db2-41a1-cc88-1e2b97051f1d"
      },
      "execution_count": 17,
      "outputs": [
        {
          "output_type": "stream",
          "name": "stdout",
          "text": [
            "name sai\n",
            "age 24\n",
            "location vizag\n"
          ]
        }
      ]
    },
    {
      "cell_type": "code",
      "source": [
        "# using f format"
      ],
      "metadata": {
        "id": "s_Q5JNNLSlZi"
      },
      "execution_count": 18,
      "outputs": []
    },
    {
      "cell_type": "code",
      "source": [
        "dict1 = {\"name\":\"sai\",\"age\":\"24\",\"location\":\"vizag\"}\n",
        "for key,value in dict1.items():\n",
        "  print(f'my key is {key} and my value is {value}')\n"
      ],
      "metadata": {
        "colab": {
          "base_uri": "https://localhost:8080/"
        },
        "id": "kq16CRmlSuXh",
        "outputId": "2bade8b6-4264-4118-cfa8-91fa98fa81e0"
      },
      "execution_count": 19,
      "outputs": [
        {
          "output_type": "stream",
          "name": "stdout",
          "text": [
            "my key is name and my value is sai\n",
            "my key is age and my value is 24\n",
            "my key is location and my value is vizag\n"
          ]
        }
      ]
    },
    {
      "cell_type": "code",
      "source": [
        "for i in range (1,12):\n",
        "  print(i)"
      ],
      "metadata": {
        "colab": {
          "base_uri": "https://localhost:8080/"
        },
        "id": "-CtrDWFxS9DC",
        "outputId": "17b2d131-0f0c-4a42-b167-3a5ed95e861d"
      },
      "execution_count": 21,
      "outputs": [
        {
          "output_type": "stream",
          "name": "stdout",
          "text": [
            "1\n",
            "2\n",
            "3\n",
            "4\n",
            "5\n",
            "6\n",
            "7\n",
            "8\n",
            "9\n",
            "10\n",
            "11\n"
          ]
        }
      ]
    },
    {
      "cell_type": "code",
      "source": [],
      "metadata": {
        "id": "s89DJ__bTHKx"
      },
      "execution_count": null,
      "outputs": []
    }
  ]
}