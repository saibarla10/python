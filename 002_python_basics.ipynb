{
  "nbformat": 4,
  "nbformat_minor": 0,
  "metadata": {
    "colab": {
      "provenance": []
    },
    "kernelspec": {
      "name": "python3",
      "display_name": "Python 3"
    },
    "language_info": {
      "name": "python"
    }
  },
  "cells": [
    {
      "cell_type": "markdown",
      "source": [
        "# What is data type?\n",
        "- it is a classification of data based on its format, size."
      ],
      "metadata": {
        "id": "GGZDmg7rGnRr"
      }
    },
    {
      "cell_type": "markdown",
      "source": [
        "# Data types are two types.\n",
        "- basic and advance"
      ],
      "metadata": {
        "id": "h0rlE8hfHZPq"
      }
    },
    {
      "cell_type": "markdown",
      "source": [
        "# Basic datatypes\n",
        "- int\n",
        "- float\n",
        "- complex\n",
        "- boolean"
      ],
      "metadata": {
        "id": "Ke-f_c4QHkav"
      }
    },
    {
      "cell_type": "markdown",
      "source": [
        "# int - integer is a number lies between +infinity and -infinity."
      ],
      "metadata": {
        "id": "SnzXsTM7H0aO"
      }
    },
    {
      "cell_type": "code",
      "source": [
        "x = 8"
      ],
      "metadata": {
        "id": "blBuXEhpHh_Q"
      },
      "execution_count": 6,
      "outputs": []
    },
    {
      "cell_type": "code",
      "source": [
        "y = 10"
      ],
      "metadata": {
        "id": "ItdKuxYkIj0z"
      },
      "execution_count": 7,
      "outputs": []
    },
    {
      "cell_type": "code",
      "source": [
        "z = 2"
      ],
      "metadata": {
        "id": "vTHT_TGmIlGn"
      },
      "execution_count": 8,
      "outputs": []
    },
    {
      "cell_type": "code",
      "source": [
        "a = -1"
      ],
      "metadata": {
        "id": "uUviQAOLImrw"
      },
      "execution_count": 9,
      "outputs": []
    },
    {
      "cell_type": "code",
      "source": [
        "b = -5"
      ],
      "metadata": {
        "id": "zDO6UnKIIn8J"
      },
      "execution_count": 10,
      "outputs": []
    },
    {
      "cell_type": "code",
      "source": [
        "c = -0"
      ],
      "metadata": {
        "id": "TG7vkt3RIqJP"
      },
      "execution_count": 11,
      "outputs": []
    },
    {
      "cell_type": "code",
      "source": [
        "n = 7"
      ],
      "metadata": {
        "id": "RqaRcNvLIrn3"
      },
      "execution_count": 12,
      "outputs": []
    },
    {
      "cell_type": "code",
      "source": [
        "age = 10"
      ],
      "metadata": {
        "id": "UuRSDRYgIwnO"
      },
      "execution_count": 13,
      "outputs": []
    },
    {
      "cell_type": "markdown",
      "source": [
        "# Float- it is in decimal form."
      ],
      "metadata": {
        "id": "YRi36CXHJJpL"
      }
    },
    {
      "cell_type": "code",
      "source": [
        "x = 3.14"
      ],
      "metadata": {
        "id": "KWGPy4WOI81k"
      },
      "execution_count": 14,
      "outputs": []
    },
    {
      "cell_type": "code",
      "source": [
        "y = 1.2"
      ],
      "metadata": {
        "id": "0n9731sAJR9D"
      },
      "execution_count": 15,
      "outputs": []
    },
    {
      "cell_type": "code",
      "source": [
        "z = 4.35"
      ],
      "metadata": {
        "id": "gzJJ9fB7JTTl"
      },
      "execution_count": 16,
      "outputs": []
    },
    {
      "cell_type": "code",
      "source": [
        "pi = 3.1452"
      ],
      "metadata": {
        "id": "qNYeQqqPJUyr"
      },
      "execution_count": 17,
      "outputs": []
    },
    {
      "cell_type": "code",
      "source": [
        "distance = 125.7"
      ],
      "metadata": {
        "id": "yRWMfPeDJWrc"
      },
      "execution_count": 18,
      "outputs": []
    },
    {
      "cell_type": "code",
      "source": [
        "average = 80.7"
      ],
      "metadata": {
        "id": "1DPerqTHJapQ"
      },
      "execution_count": 19,
      "outputs": []
    },
    {
      "cell_type": "code",
      "source": [
        "height = 175.5"
      ],
      "metadata": {
        "id": "5WUm5scnJeU1"
      },
      "execution_count": 20,
      "outputs": []
    },
    {
      "cell_type": "markdown",
      "source": [
        "# Complex- real number + imaginery number (j)"
      ],
      "metadata": {
        "id": "EypDVbkYJioK"
      }
    },
    {
      "cell_type": "code",
      "source": [
        "x = 3 + 5j"
      ],
      "metadata": {
        "id": "skn4O9URJg6S"
      },
      "execution_count": 21,
      "outputs": []
    },
    {
      "cell_type": "code",
      "source": [
        "y = 1 + 2j"
      ],
      "metadata": {
        "id": "UPzv1UnUJuAI"
      },
      "execution_count": 22,
      "outputs": []
    },
    {
      "cell_type": "code",
      "source": [
        "z = -1 - 4j"
      ],
      "metadata": {
        "id": "46LLzv5zJz4E"
      },
      "execution_count": 23,
      "outputs": []
    },
    {
      "cell_type": "code",
      "source": [
        "a = 2 - 3j"
      ],
      "metadata": {
        "id": "kpxLRuwKJ3aw"
      },
      "execution_count": 24,
      "outputs": []
    },
    {
      "cell_type": "code",
      "source": [
        "b = 3 + 1j"
      ],
      "metadata": {
        "id": "pXDUgiXSJ9yS"
      },
      "execution_count": 25,
      "outputs": []
    },
    {
      "cell_type": "code",
      "source": [
        "c = 0.5 + 0j"
      ],
      "metadata": {
        "id": "OH7U3A6-KBKQ"
      },
      "execution_count": 26,
      "outputs": []
    },
    {
      "cell_type": "code",
      "source": [],
      "metadata": {
        "id": "l63mZLn7KD2q"
      },
      "execution_count": null,
      "outputs": []
    },
    {
      "cell_type": "markdown",
      "source": [
        "# Boolean- true or flase"
      ],
      "metadata": {
        "id": "LcG5NbNVKFU0"
      }
    },
    {
      "cell_type": "code",
      "source": [
        "x = 15 > 7"
      ],
      "metadata": {
        "id": "S2bMVaFEKJnS"
      },
      "execution_count": 27,
      "outputs": []
    },
    {
      "cell_type": "code",
      "source": [
        "y = 2 > 4"
      ],
      "metadata": {
        "id": "_WATXw6gKO0O"
      },
      "execution_count": 30,
      "outputs": []
    },
    {
      "cell_type": "code",
      "source": [
        "c = 7 > 11"
      ],
      "metadata": {
        "id": "OZ2Xy-oeKXlP"
      },
      "execution_count": 31,
      "outputs": []
    },
    {
      "cell_type": "code",
      "source": [
        "a = 5 < 1"
      ],
      "metadata": {
        "id": "eTuvfKwaKdrd"
      },
      "execution_count": 32,
      "outputs": []
    },
    {
      "cell_type": "markdown",
      "source": [
        "#  Type converstions"
      ],
      "metadata": {
        "id": "MI_-FTxbKkiw"
      }
    },
    {
      "cell_type": "code",
      "source": [
        "x = 9\n",
        "print(type(x))"
      ],
      "metadata": {
        "colab": {
          "base_uri": "https://localhost:8080/"
        },
        "id": "5zQOjpZEKhjj",
        "outputId": "214d16e0-247a-490c-a0b6-5c70abe0f98e"
      },
      "execution_count": 33,
      "outputs": [
        {
          "output_type": "stream",
          "name": "stdout",
          "text": [
            "<class 'int'>\n"
          ]
        }
      ]
    },
    {
      "cell_type": "code",
      "source": [
        "age = 38\n",
        "print(type(age))"
      ],
      "metadata": {
        "colab": {
          "base_uri": "https://localhost:8080/"
        },
        "id": "lgq7vDP1Kw8o",
        "outputId": "650c6ed6-78ac-4312-a464-59fba47c0ac8"
      },
      "execution_count": 34,
      "outputs": [
        {
          "output_type": "stream",
          "name": "stdout",
          "text": [
            "<class 'int'>\n"
          ]
        }
      ]
    },
    {
      "cell_type": "code",
      "source": [
        "score = 220\n",
        "print(type(score))"
      ],
      "metadata": {
        "colab": {
          "base_uri": "https://localhost:8080/"
        },
        "id": "PQZDjvTMK4U4",
        "outputId": "27b883b3-5d34-460f-db0d-a3ca7e47b69c"
      },
      "execution_count": 35,
      "outputs": [
        {
          "output_type": "stream",
          "name": "stdout",
          "text": [
            "<class 'int'>\n"
          ]
        }
      ]
    },
    {
      "cell_type": "code",
      "source": [
        "pi = 3.14\n",
        "print(type(pi))"
      ],
      "metadata": {
        "colab": {
          "base_uri": "https://localhost:8080/"
        },
        "id": "tu21AuPSLEAD",
        "outputId": "cd1c24c4-ac39-4fcf-ea23-7cd1c42e9f97"
      },
      "execution_count": 36,
      "outputs": [
        {
          "output_type": "stream",
          "name": "stdout",
          "text": [
            "<class 'float'>\n"
          ]
        }
      ]
    },
    {
      "cell_type": "code",
      "source": [
        "speed = 30.75\n",
        "print(type(speed))"
      ],
      "metadata": {
        "colab": {
          "base_uri": "https://localhost:8080/"
        },
        "id": "sSP2uqezLOMl",
        "outputId": "aea95660-d71a-41de-9e97-f25e7d574c35"
      },
      "execution_count": 37,
      "outputs": [
        {
          "output_type": "stream",
          "name": "stdout",
          "text": [
            "<class 'float'>\n"
          ]
        }
      ]
    },
    {
      "cell_type": "code",
      "source": [
        "height = 175.5\n",
        "print(type(height))"
      ],
      "metadata": {
        "colab": {
          "base_uri": "https://localhost:8080/"
        },
        "id": "tRG4E1yGLVVi",
        "outputId": "2fa117de-e4af-42b8-e756-caa0e87d3dfa"
      },
      "execution_count": 38,
      "outputs": [
        {
          "output_type": "stream",
          "name": "stdout",
          "text": [
            "<class 'float'>\n"
          ]
        }
      ]
    },
    {
      "cell_type": "code",
      "source": [
        "x = 3 + 4j\n",
        "print(type(x))"
      ],
      "metadata": {
        "colab": {
          "base_uri": "https://localhost:8080/"
        },
        "id": "bIVVUlmrLdBU",
        "outputId": "13ddbc69-40da-47e2-811e-73ce8635c038"
      },
      "execution_count": 39,
      "outputs": [
        {
          "output_type": "stream",
          "name": "stdout",
          "text": [
            "<class 'complex'>\n"
          ]
        }
      ]
    },
    {
      "cell_type": "code",
      "source": [
        "y = 3 + 1j\n",
        "print(type(y))"
      ],
      "metadata": {
        "colab": {
          "base_uri": "https://localhost:8080/"
        },
        "id": "_ErF_rQwLjws",
        "outputId": "c3ad48df-eb73-4c50-f8e2-000e1fdca694"
      },
      "execution_count": 40,
      "outputs": [
        {
          "output_type": "stream",
          "name": "stdout",
          "text": [
            "<class 'complex'>\n"
          ]
        }
      ]
    },
    {
      "cell_type": "code",
      "source": [
        "a = 14 > 5\n",
        "print(type(a))"
      ],
      "metadata": {
        "colab": {
          "base_uri": "https://localhost:8080/"
        },
        "id": "6FJwZU0JLtk3",
        "outputId": "4523f9bb-3b06-44ef-96a6-b6bbd8515245"
      },
      "execution_count": 41,
      "outputs": [
        {
          "output_type": "stream",
          "name": "stdout",
          "text": [
            "<class 'bool'>\n"
          ]
        }
      ]
    },
    {
      "cell_type": "code",
      "source": [
        "b = 3 > 1\n",
        "print(type(b))"
      ],
      "metadata": {
        "colab": {
          "base_uri": "https://localhost:8080/"
        },
        "id": "NaPqxFQcMXF5",
        "outputId": "2959b717-841d-41d9-9e2a-29df7958671d"
      },
      "execution_count": 44,
      "outputs": [
        {
          "output_type": "stream",
          "name": "stdout",
          "text": [
            "<class 'bool'>\n"
          ]
        }
      ]
    }
  ]
}