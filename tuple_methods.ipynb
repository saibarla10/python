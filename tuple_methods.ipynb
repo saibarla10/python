{
  "cells": [
    {
      "cell_type": "markdown",
      "source": [
        "# tuple method - it is used to collect of objects separated by commas.it is immutable.it is representated by ( , )"
      ],
      "metadata": {
        "id": "-CCjSXiQx_lF"
      }
    },
    {
      "cell_type": "code",
      "source": [
        "# examples"
      ],
      "metadata": {
        "id": "z7-zw2eWyEjl"
      },
      "execution_count": null,
      "outputs": []
    },
    {
      "cell_type": "code",
      "source": [
        "a = (1,2,3,4,5)\n",
        "print(a)\n",
        "print(type(a))"
      ],
      "metadata": {
        "colab": {
          "base_uri": "https://localhost:8080/"
        },
        "id": "BCADwfUvzp1G",
        "outputId": "67508730-0ad5-4d41-ed2b-e776c9a9b29a"
      },
      "execution_count": null,
      "outputs": [
        {
          "output_type": "stream",
          "name": "stdout",
          "text": [
            "(1, 2, 3, 4, 5)\n",
            "<class 'tuple'>\n"
          ]
        }
      ]
    },
    {
      "cell_type": "code",
      "source": [
        "b = ('apple','banana','cherry')\n",
        "print(b)\n",
        "print(type(b))"
      ],
      "metadata": {
        "colab": {
          "base_uri": "https://localhost:8080/"
        },
        "id": "pOsKlnDa0KsV",
        "outputId": "ca1f521d-e229-4639-ea53-d7a64a860b25"
      },
      "execution_count": null,
      "outputs": [
        {
          "output_type": "stream",
          "name": "stdout",
          "text": [
            "('apple', 'banana', 'cherry')\n",
            "<class 'tuple'>\n"
          ]
        }
      ]
    },
    {
      "cell_type": "code",
      "source": [
        "c = (1,3.24,True,3+4j,'teks')\n",
        "print(c)\n",
        "print(type(c))"
      ],
      "metadata": {
        "colab": {
          "base_uri": "https://localhost:8080/"
        },
        "id": "ybqReORV0X56",
        "outputId": "f06da9d6-e810-427f-d4ba-c581abd009fc"
      },
      "execution_count": null,
      "outputs": [
        {
          "output_type": "stream",
          "name": "stdout",
          "text": [
            "(1, 3.24, True, (3+4j), 'teks')\n",
            "<class 'tuple'>\n"
          ]
        }
      ]
    },
    {
      "cell_type": "code",
      "source": [
        "# tuple is used to acccess an element using index method"
      ],
      "metadata": {
        "id": "70bY3SIZ0nfx"
      },
      "execution_count": null,
      "outputs": []
    },
    {
      "cell_type": "code",
      "source": [
        "a = (1,2,3,4,5)\n",
        "a[3]"
      ],
      "metadata": {
        "colab": {
          "base_uri": "https://localhost:8080/"
        },
        "id": "RQuvM8m706vH",
        "outputId": "e8ebe5f8-9b56-481b-8330-d2d86657d8aa"
      },
      "execution_count": null,
      "outputs": [
        {
          "output_type": "execute_result",
          "data": {
            "text/plain": [
              "4"
            ]
          },
          "metadata": {},
          "execution_count": 9
        }
      ]
    },
    {
      "cell_type": "code",
      "source": [
        "c = (1,3.24,True,3+4j,'teks')\n",
        "c[4]"
      ],
      "metadata": {
        "colab": {
          "base_uri": "https://localhost:8080/",
          "height": 35
        },
        "id": "sEfOiKeJ1DNc",
        "outputId": "e42a5ff3-4c08-47c2-cca6-a2c08d247158"
      },
      "execution_count": null,
      "outputs": [
        {
          "output_type": "execute_result",
          "data": {
            "text/plain": [
              "'teks'"
            ],
            "application/vnd.google.colaboratory.intrinsic+json": {
              "type": "string"
            }
          },
          "metadata": {},
          "execution_count": 10
        }
      ]
    },
    {
      "cell_type": "markdown",
      "source": [
        "# tuple methods"
      ],
      "metadata": {
        "id": "eybLiLXk1OOi"
      }
    },
    {
      "cell_type": "markdown",
      "source": [
        "# len()"
      ],
      "metadata": {
        "id": "g2XPfFRA1RFo"
      }
    },
    {
      "cell_type": "code",
      "source": [
        "word = ('apple','banana','cherry')\n",
        "print(len(word))"
      ],
      "metadata": {
        "colab": {
          "base_uri": "https://localhost:8080/"
        },
        "id": "p4qpbC7n1JDr",
        "outputId": "0abcfec0-0de9-41bf-8b1c-e1515a3dab57"
      },
      "execution_count": null,
      "outputs": [
        {
          "output_type": "stream",
          "name": "stdout",
          "text": [
            "3\n"
          ]
        }
      ]
    },
    {
      "cell_type": "code",
      "source": [
        "letter = ('p','y','t','h','o','n')\n",
        "print(len(letter))"
      ],
      "metadata": {
        "colab": {
          "base_uri": "https://localhost:8080/"
        },
        "id": "Ttjb1b-B1jGG",
        "outputId": "d3ce1ac1-b833-42c1-c162-503a71382549"
      },
      "execution_count": null,
      "outputs": [
        {
          "output_type": "stream",
          "name": "stdout",
          "text": [
            "6\n"
          ]
        }
      ]
    },
    {
      "cell_type": "markdown",
      "source": [
        "# count()"
      ],
      "metadata": {
        "id": "rOMq-rTW1zj7"
      }
    },
    {
      "cell_type": "code",
      "source": [
        "word = ('i','am','badboy','badboy')\n",
        "word.count('badboy')\n"
      ],
      "metadata": {
        "colab": {
          "base_uri": "https://localhost:8080/"
        },
        "id": "9fSN-Eg81vs6",
        "outputId": "abbf28d7-adcb-48ca-a7c5-a884944117be"
      },
      "execution_count": null,
      "outputs": [
        {
          "output_type": "execute_result",
          "data": {
            "text/plain": [
              "2"
            ]
          },
          "metadata": {},
          "execution_count": 13
        }
      ]
    },
    {
      "cell_type": "code",
      "source": [
        "letter = ('p','y','t','h','o','n','n')\n",
        "letter.count('n')"
      ],
      "metadata": {
        "colab": {
          "base_uri": "https://localhost:8080/"
        },
        "id": "UMr0epcl2PE1",
        "outputId": "4b1b8009-c834-4769-d217-cb18357efffb"
      },
      "execution_count": null,
      "outputs": [
        {
          "output_type": "execute_result",
          "data": {
            "text/plain": [
              "2"
            ]
          },
          "metadata": {},
          "execution_count": 15
        }
      ]
    },
    {
      "cell_type": "markdown",
      "source": [
        "# index()"
      ],
      "metadata": {
        "id": "SBtTDFtT2mO2"
      }
    },
    {
      "cell_type": "code",
      "source": [
        "letter = ('p','y','t','h','o','n')\n",
        "letter.index('t')"
      ],
      "metadata": {
        "colab": {
          "base_uri": "https://localhost:8080/"
        },
        "id": "VRxfVAjW25MD",
        "outputId": "03c303a7-172e-4234-e339-debf1fcf08ba"
      },
      "execution_count": null,
      "outputs": [
        {
          "output_type": "execute_result",
          "data": {
            "text/plain": [
              "2"
            ]
          },
          "metadata": {},
          "execution_count": 18
        }
      ]
    },
    {
      "cell_type": "code",
      "source": [
        "word = ('i','am','badboy',)\n",
        "word.index('am')"
      ],
      "metadata": {
        "colab": {
          "base_uri": "https://localhost:8080/"
        },
        "id": "zyeVD67V3Uhd",
        "outputId": "8e67b9fc-4534-48f5-fc6e-979cf3ee5dff"
      },
      "execution_count": null,
      "outputs": [
        {
          "output_type": "execute_result",
          "data": {
            "text/plain": [
              "1"
            ]
          },
          "metadata": {},
          "execution_count": 19
        }
      ]
    },
    {
      "cell_type": "code",
      "source": [],
      "metadata": {
        "id": "zVi3ecT23ibx"
      },
      "execution_count": null,
      "outputs": []
    }
  ],
  "metadata": {
    "colab": {
      "provenance": []
    },
    "kernelspec": {
      "display_name": "Python 3",
      "name": "python3"
    }
  },
  "nbformat": 4,
  "nbformat_minor": 0
}