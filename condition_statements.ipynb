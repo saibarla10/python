{
  "nbformat": 4,
  "nbformat_minor": 0,
  "metadata": {
    "colab": {
      "provenance": []
    },
    "kernelspec": {
      "name": "python3",
      "display_name": "Python 3"
    },
    "language_info": {
      "name": "python"
    }
  },
  "cells": [
    {
      "cell_type": "markdown",
      "source": [
        "# conditional statements:"
      ],
      "metadata": {
        "id": "uI_Z1_0XCJCB"
      }
    },
    {
      "cell_type": "markdown",
      "source": [
        "1. if statement:"
      ],
      "metadata": {
        "id": "ZrqtaUG_DSLp"
      }
    },
    {
      "cell_type": "code",
      "execution_count": 1,
      "metadata": {
        "colab": {
          "base_uri": "https://localhost:8080/"
        },
        "id": "5XOO3Q5eCFEs",
        "outputId": "ebe59e96-3740-4b1c-e2fb-eb9c3c536472"
      },
      "outputs": [
        {
          "output_type": "stream",
          "name": "stdout",
          "text": [
            "enter a number:22\n",
            "given number is positive\n"
          ]
        }
      ],
      "source": [
        "a = int(input(\"enter a number:\"))\n",
        "if a > 0:\n",
        "  print(\"given number is positive\")"
      ]
    },
    {
      "cell_type": "markdown",
      "source": [
        "2. if-else statement:"
      ],
      "metadata": {
        "id": "Omlqbc_4D85R"
      }
    },
    {
      "cell_type": "code",
      "source": [
        "a = int(input(\"enter your age:\"))\n",
        "if a >= 18:\n",
        "  print(\"you are eligible for voting\")\n",
        "else:\n",
        "  print(\"you are not eligible for voting\")"
      ],
      "metadata": {
        "colab": {
          "base_uri": "https://localhost:8080/"
        },
        "id": "rPQr0sDzD5ah",
        "outputId": "6dd533bd-9894-4dce-8edb-14961f032045"
      },
      "execution_count": 4,
      "outputs": [
        {
          "output_type": "stream",
          "name": "stdout",
          "text": [
            "enter your age:24\n",
            "you are eligible for voting\n"
          ]
        }
      ]
    },
    {
      "cell_type": "markdown",
      "source": [
        "3. elif statement:"
      ],
      "metadata": {
        "id": "O4Dzp-dCE4k5"
      }
    },
    {
      "cell_type": "code",
      "source": [
        "\n",
        "a = int(input(\"enter a number:\"))\n",
        "if a > 0:\n",
        "    print(\"given number is positive\")\n",
        "elif a < 0:\n",
        "    print(\"given number is negative\")\n",
        "else:\n",
        "    print(\"given number is zero\")\n",
        "\n"
      ],
      "metadata": {
        "colab": {
          "base_uri": "https://localhost:8080/"
        },
        "id": "UpxUKzFtEkiC",
        "outputId": "580fe970-db11-4e3e-ac98-6ff830e1051b"
      },
      "execution_count": 6,
      "outputs": [
        {
          "output_type": "stream",
          "name": "stdout",
          "text": [
            "enter a number:24\n",
            "given number is positive\n"
          ]
        }
      ]
    },
    {
      "cell_type": "markdown",
      "source": [
        "# practice questions"
      ],
      "metadata": {
        "id": "nhU7vfO0F5kh"
      }
    },
    {
      "cell_type": "code",
      "source": [
        "# write a python program to find even number?"
      ],
      "metadata": {
        "id": "qAWvbBJSFrJS"
      },
      "execution_count": 7,
      "outputs": []
    },
    {
      "cell_type": "code",
      "source": [
        "a = int(input(\"enter a number:\"))\n",
        "if a%2 == 0:\n",
        "  print(\"a is even number\")\n",
        "else:\n",
        "    print(\"a is odd number\")"
      ],
      "metadata": {
        "colab": {
          "base_uri": "https://localhost:8080/"
        },
        "id": "XgvkiiYNGJag",
        "outputId": "eb7c6b05-e138-4d42-ec05-660caf7a0854"
      },
      "execution_count": 9,
      "outputs": [
        {
          "output_type": "stream",
          "name": "stdout",
          "text": [
            "enter a number:24\n",
            "a is even number\n"
          ]
        }
      ]
    },
    {
      "cell_type": "code",
      "source": [
        "# write a program to find smallest number?"
      ],
      "metadata": {
        "id": "VzYqub2cGkmz"
      },
      "execution_count": 10,
      "outputs": []
    },
    {
      "cell_type": "code",
      "source": [
        "a,b,c = 12,6,9\n",
        "if a<b and a<c:\n",
        "  print(\"a is samllest number\")\n",
        "elif b<a and b<c:\n",
        "    print(\"b is smallest number\")\n",
        "else:\n",
        "      print(\"c is smallest number\")"
      ],
      "metadata": {
        "colab": {
          "base_uri": "https://localhost:8080/"
        },
        "id": "4_s9NDReHIRg",
        "outputId": "70ce7844-f9c3-4aa6-f8b4-7d422cd6fa90"
      },
      "execution_count": 12,
      "outputs": [
        {
          "output_type": "stream",
          "name": "stdout",
          "text": [
            "b is smallest number\n"
          ]
        }
      ]
    },
    {
      "cell_type": "code",
      "source": [
        "# write program to find maximum number?"
      ],
      "metadata": {
        "id": "FXkiOnbVIDXi"
      },
      "execution_count": 13,
      "outputs": []
    },
    {
      "cell_type": "code",
      "source": [
        "a,b,c = 24,56,89\n",
        "if a>b and a>c:\n",
        "  print(\"a is maximum number\")\n",
        "elif b>a and b>c:\n",
        "    print(\"b is maximum number\")\n",
        "else:\n",
        "      print(\"c is maximum number\")\n",
        ""
      ],
      "metadata": {
        "colab": {
          "base_uri": "https://localhost:8080/"
        },
        "id": "wszeuNbcJ32h",
        "outputId": "5298b50b-62b7-4357-9e2b-71b59f356f6c"
      },
      "execution_count": 15,
      "outputs": [
        {
          "output_type": "stream",
          "name": "stdout",
          "text": [
            "c is maximum number\n"
          ]
        }
      ]
    },
    {
      "cell_type": "code",
      "source": [
        "# design python program for grading system?"
      ],
      "metadata": {
        "id": "Zbku8jljKVPy"
      },
      "execution_count": 16,
      "outputs": []
    },
    {
      "cell_type": "code",
      "source": [
        "marks = int(input(\"enter your marks:\"))\n",
        "if marks >= 90:\n",
        "  print(\"your grade is A\")\n",
        "elif marks >= 80:\n",
        "  print(\"your grade is B\")\n",
        "elif marks >= 70:\n",
        "  print(\"your grade is C\")\n",
        "elif marks >= 60:\n",
        "  print(\"your grade is D\")\n",
        "else:\n",
        "  print(\"your grade is Fail\")"
      ],
      "metadata": {
        "colab": {
          "base_uri": "https://localhost:8080/"
        },
        "id": "xmkd7X-NKkuh",
        "outputId": "cc3bdb5c-90b5-4117-8669-bdeb72a5e404"
      },
      "execution_count": 19,
      "outputs": [
        {
          "output_type": "stream",
          "name": "stdout",
          "text": [
            "enter your marks:55\n",
            "your grade is Fail\n"
          ]
        }
      ]
    },
    {
      "cell_type": "code",
      "source": [
        "# write a program to find given char?"
      ],
      "metadata": {
        "id": "REooPf5ULVwy"
      },
      "execution_count": 20,
      "outputs": []
    },
    {
      "cell_type": "code",
      "source": [
        "char = input(\"enter a character:\")\n",
        "if char in \"aeiouAEIOU\":\n",
        "  print(\"given character is vowel\")\n",
        "else:\n",
        "  print(\"given cgaracter is not vowel\")"
      ],
      "metadata": {
        "colab": {
          "base_uri": "https://localhost:8080/"
        },
        "id": "EF0ewfz7L3UR",
        "outputId": "99c4b6d8-208d-4770-becb-643736788600"
      },
      "execution_count": 21,
      "outputs": [
        {
          "output_type": "stream",
          "name": "stdout",
          "text": [
            "enter a character:aeiou\n",
            "given character is vowel\n"
          ]
        }
      ]
    },
    {
      "cell_type": "code",
      "source": [
        "# write a programto swap of two numbers?"
      ],
      "metadata": {
        "id": "VWIdrajHMN1i"
      },
      "execution_count": 22,
      "outputs": []
    },
    {
      "cell_type": "code",
      "source": [],
      "metadata": {
        "id": "tX_XWmDLMYjx"
      },
      "execution_count": null,
      "outputs": []
    }
  ]
}