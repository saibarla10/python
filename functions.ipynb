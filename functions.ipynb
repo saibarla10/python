{
  "nbformat": 4,
  "nbformat_minor": 0,
  "metadata": {
    "colab": {
      "provenance": [],
      "gpuType": "T4"
    },
    "kernelspec": {
      "name": "python3",
      "display_name": "Python 3"
    },
    "language_info": {
      "name": "python"
    },
    "accelerator": "GPU"
  },
  "cells": [
    {
      "cell_type": "markdown",
      "source": [
        "# Functions"
      ],
      "metadata": {
        "id": "c8Pl9lfiMfNF"
      }
    },
    {
      "cell_type": "markdown",
      "source": [
        "\n",
        "\n",
        "*   built in function\n",
        "*   user define function\n",
        "\n"
      ],
      "metadata": {
        "id": "tPOOvNufMqpt"
      }
    },
    {
      "cell_type": "code",
      "source": [
        "# built in function examples"
      ],
      "metadata": {
        "id": "mWdQZ6JEMhiN"
      },
      "execution_count": null,
      "outputs": []
    },
    {
      "cell_type": "code",
      "source": [
        "def sum(a,b):\n",
        "  c = a + b\n",
        "  print(c)"
      ],
      "metadata": {
        "id": "FqUwnKJpM80u"
      },
      "execution_count": null,
      "outputs": []
    },
    {
      "cell_type": "code",
      "source": [
        "sum(4,5)"
      ],
      "metadata": {
        "colab": {
          "base_uri": "https://localhost:8080/"
        },
        "id": "eAiD3Y4eNKhN",
        "outputId": "71a02206-b196-4893-e11b-2f7834fd8dca"
      },
      "execution_count": null,
      "outputs": [
        {
          "output_type": "stream",
          "name": "stdout",
          "text": [
            "9\n"
          ]
        }
      ]
    },
    {
      "cell_type": "code",
      "source": [
        "def sum(a,b):\n",
        "  c = a * b\n",
        "  print(c)"
      ],
      "metadata": {
        "id": "13eGxLvgNM79"
      },
      "execution_count": null,
      "outputs": []
    },
    {
      "cell_type": "code",
      "source": [
        "sum(2,3)"
      ],
      "metadata": {
        "colab": {
          "base_uri": "https://localhost:8080/"
        },
        "id": "x_fCNZg0NhGN",
        "outputId": "323ea793-0ea0-474f-eed6-1ac555536874"
      },
      "execution_count": null,
      "outputs": [
        {
          "output_type": "stream",
          "name": "stdout",
          "text": [
            "6\n"
          ]
        }
      ]
    },
    {
      "cell_type": "code",
      "source": [
        "# using arthmetic operation"
      ],
      "metadata": {
        "id": "COIgfhOrNkYN"
      },
      "execution_count": null,
      "outputs": []
    },
    {
      "cell_type": "code",
      "source": [
        "num1 = int(input(\"enter the num1 number:\"))\n",
        "num2 = int(input(\"enter the num2 number:\"))\n",
        "def sum(num1,num2):\n",
        "  c = num1 + num2\n",
        "  d = num1 * num2\n",
        "  e = num1 / num2\n",
        "  f = num1 - num2\n",
        "  print(c)\n",
        "  print(d)\n",
        "  print(e)\n",
        "  print(f)\n"
      ],
      "metadata": {
        "colab": {
          "base_uri": "https://localhost:8080/"
        },
        "id": "YrRv2SUfNpxN",
        "outputId": "34a191a3-2181-4904-d6e7-719b87873d36"
      },
      "execution_count": null,
      "outputs": [
        {
          "name": "stdout",
          "output_type": "stream",
          "text": [
            "enter the num1 number:9\n",
            "enter the num2 number:9\n"
          ]
        }
      ]
    },
    {
      "cell_type": "code",
      "source": [
        "sum(num1,num2)"
      ],
      "metadata": {
        "colab": {
          "base_uri": "https://localhost:8080/"
        },
        "id": "IqMu45_hOHN9",
        "outputId": "441b892e-f92b-4251-cb5c-f7391fb82461"
      },
      "execution_count": null,
      "outputs": [
        {
          "output_type": "stream",
          "name": "stdout",
          "text": [
            "18\n",
            "81\n",
            "1.0\n",
            "0\n"
          ]
        }
      ]
    },
    {
      "cell_type": "code",
      "source": [
        "# user define examples: Taking values from user"
      ],
      "metadata": {
        "id": "wzm8hvjrPCjv"
      },
      "execution_count": null,
      "outputs": []
    },
    {
      "cell_type": "code",
      "source": [
        "user = input(\"enter the name:\")\n",
        "name = \"hero_sai\"\n",
        "def find_name(user,name):\n",
        "  if user == name:\n",
        "    print(\"true\")\n",
        "  else:\n",
        "    print(\"false\")"
      ],
      "metadata": {
        "colab": {
          "base_uri": "https://localhost:8080/"
        },
        "id": "yz9XkufbPRgt",
        "outputId": "147feab3-aa82-49dd-d212-40a16230ed46"
      },
      "execution_count": 7,
      "outputs": [
        {
          "name": "stdout",
          "output_type": "stream",
          "text": [
            "enter the name:sai\n"
          ]
        }
      ]
    },
    {
      "cell_type": "code",
      "source": [
        "find_name(user,name)"
      ],
      "metadata": {
        "colab": {
          "base_uri": "https://localhost:8080/"
        },
        "id": "bitGBQYmP05c",
        "outputId": "1aa1a7c7-9069-49a1-f4bf-59d7e6206da6"
      },
      "execution_count": 8,
      "outputs": [
        {
          "output_type": "stream",
          "name": "stdout",
          "text": [
            "false\n"
          ]
        }
      ]
    },
    {
      "cell_type": "code",
      "source": [
        "user = input(\"enter your char:\")\n",
        "vowels = ['a','e','i','o','u']\n",
        "def find_vowels(user):\n",
        "  if user.lower() in vowels:\n",
        "    print(f\"{user} is a vowel\")\n",
        "  else:\n",
        "    print(f\"{user} is not a vowel\")\n",
        "find_vowels(user)"
      ],
      "metadata": {
        "id": "GntkQ2cWTiF9",
        "colab": {
          "base_uri": "https://localhost:8080/"
        },
        "outputId": "db580a21-b2ff-4785-f6ca-5bd1dfaccadc"
      },
      "execution_count": 9,
      "outputs": [
        {
          "output_type": "stream",
          "name": "stdout",
          "text": [
            "enter your char:a\n",
            "a is a vowel\n"
          ]
        }
      ]
    },
    {
      "cell_type": "code",
      "source": [
        "# return statement: it is used to return the value and used to get output also."
      ],
      "metadata": {
        "id": "wjcw3_aD7ZgI"
      },
      "execution_count": null,
      "outputs": []
    },
    {
      "cell_type": "code",
      "source": [
        "def mul(a,b):\n",
        "    mul = a * b\n",
        "    return mul"
      ],
      "metadata": {
        "id": "lixUAXRG7pqD"
      },
      "execution_count": 10,
      "outputs": []
    },
    {
      "cell_type": "code",
      "source": [
        "mul(3,9)"
      ],
      "metadata": {
        "colab": {
          "base_uri": "https://localhost:8080/"
        },
        "id": "f96nsGOn8Nlm",
        "outputId": "7d915351-8cc8-4a4f-af79-243b912b8ac7"
      },
      "execution_count": 11,
      "outputs": [
        {
          "output_type": "execute_result",
          "data": {
            "text/plain": [
              "27"
            ]
          },
          "metadata": {},
          "execution_count": 11
        }
      ]
    },
    {
      "cell_type": "code",
      "source": [
        "mul(23,89)"
      ],
      "metadata": {
        "colab": {
          "base_uri": "https://localhost:8080/"
        },
        "id": "siq_2fc48UAl",
        "outputId": "922e6e4f-9c54-46e7-cf44-3c8c11dd56fe"
      },
      "execution_count": 12,
      "outputs": [
        {
          "output_type": "execute_result",
          "data": {
            "text/plain": [
              "2047"
            ]
          },
          "metadata": {},
          "execution_count": 12
        }
      ]
    },
    {
      "cell_type": "code",
      "source": [
        "def add (a,b):\n",
        "    add = a + b\n",
        "    return add"
      ],
      "metadata": {
        "id": "aqcwo0EW8YpR"
      },
      "execution_count": null,
      "outputs": []
    },
    {
      "cell_type": "code",
      "source": [
        "add(34,87)"
      ],
      "metadata": {
        "colab": {
          "base_uri": "https://localhost:8080/"
        },
        "id": "VnZGxQ4g-C4b",
        "outputId": "a0bbf59f-ef55-453e-9acd-3c0ae767f006"
      },
      "execution_count": null,
      "outputs": [
        {
          "output_type": "execute_result",
          "data": {
            "text/plain": [
              "121"
            ]
          },
          "metadata": {},
          "execution_count": 31
        }
      ]
    },
    {
      "cell_type": "code",
      "source": [
        "def div(a, b):\n",
        "    div = a / b\n",
        "    return div"
      ],
      "metadata": {
        "id": "sPF5J4otAHDs"
      },
      "execution_count": 15,
      "outputs": []
    },
    {
      "cell_type": "code",
      "source": [
        "div(3,9)"
      ],
      "metadata": {
        "colab": {
          "base_uri": "https://localhost:8080/"
        },
        "id": "CsDWMVZRDyhT",
        "outputId": "e53c7d07-4c4d-4315-8b42-f992fca90b26"
      },
      "execution_count": 24,
      "outputs": [
        {
          "output_type": "execute_result",
          "data": {
            "text/plain": [
              "0.3333333333333333"
            ]
          },
          "metadata": {},
          "execution_count": 24
        }
      ]
    },
    {
      "cell_type": "code",
      "source": [
        "# lambda function:"
      ],
      "metadata": {
        "id": "cZ54V5s6-FHv"
      },
      "execution_count": null,
      "outputs": []
    },
    {
      "cell_type": "code",
      "source": [
        "f = lambda y : y +100\n",
        "print (f(5))"
      ],
      "metadata": {
        "colab": {
          "base_uri": "https://localhost:8080/"
        },
        "id": "kMTA7Mh4-Pxr",
        "outputId": "f1d474ad-3f6c-42ce-9eab-5493dba4286e"
      },
      "execution_count": null,
      "outputs": [
        {
          "output_type": "stream",
          "name": "stdout",
          "text": [
            "105\n"
          ]
        }
      ]
    },
    {
      "cell_type": "code",
      "source": [
        "mul = lambda a,b : a * b\n",
        "print(mul(2,3))"
      ],
      "metadata": {
        "colab": {
          "base_uri": "https://localhost:8080/"
        },
        "id": "E-dJT0ea-X8x",
        "outputId": "5a7d4424-85be-4734-f107-4c9884a325c2"
      },
      "execution_count": null,
      "outputs": [
        {
          "output_type": "stream",
          "name": "stdout",
          "text": [
            "6\n"
          ]
        }
      ]
    },
    {
      "cell_type": "code",
      "source": [
        "# using def function"
      ],
      "metadata": {
        "id": "-TUHgn62-ilL"
      },
      "execution_count": null,
      "outputs": []
    },
    {
      "cell_type": "code",
      "source": [
        "def find ():\n",
        "  lam = lambda a,b : a + b\n",
        "  return lam (4,3)"
      ],
      "metadata": {
        "id": "NaNfDIOx-w9P"
      },
      "execution_count": null,
      "outputs": []
    },
    {
      "cell_type": "code",
      "source": [
        "h = find()\n",
        "print(h)"
      ],
      "metadata": {
        "colab": {
          "base_uri": "https://localhost:8080/"
        },
        "id": "oMH9fxLf--dX",
        "outputId": "dbec4d7a-0fcd-4ba4-f71c-0c2933549e4b"
      },
      "execution_count": null,
      "outputs": [
        {
          "output_type": "stream",
          "name": "stdout",
          "text": [
            "7\n"
          ]
        }
      ]
    },
    {
      "cell_type": "code",
      "source": [
        "lam = lambda a,b,c : a + b * c\n",
        "print(lam(2,3,4))"
      ],
      "metadata": {
        "colab": {
          "base_uri": "https://localhost:8080/"
        },
        "id": "fHuV_BSP_Lxj",
        "outputId": "566fb8ad-5cba-49e1-d4a6-96015bb6401a"
      },
      "execution_count": null,
      "outputs": [
        {
          "output_type": "stream",
          "name": "stdout",
          "text": [
            "14\n"
          ]
        }
      ]
    },
    {
      "cell_type": "code",
      "source": [
        "# Global and Local"
      ],
      "metadata": {
        "id": "Fg8F1il0_c8r"
      },
      "execution_count": null,
      "outputs": []
    },
    {
      "cell_type": "code",
      "source": [
        "glo = \"hello world\"\n",
        "def local():\n",
        "  local_var = \"i am local variable\"\n",
        "  print(local_var)\n",
        "\n",
        "  print(glo)"
      ],
      "metadata": {
        "id": "4Jkke_u4_3OQ"
      },
      "execution_count": 22,
      "outputs": []
    },
    {
      "cell_type": "code",
      "source": [
        "local()"
      ],
      "metadata": {
        "id": "aRABlsVtAFXk",
        "outputId": "849cfc95-2b6e-4f3e-fb8e-4a3434035f32",
        "colab": {
          "base_uri": "https://localhost:8080/"
        }
      },
      "execution_count": 23,
      "outputs": [
        {
          "output_type": "stream",
          "name": "stdout",
          "text": [
            "i am local variable\n",
            "hello world\n"
          ]
        }
      ]
    }
  ]
}