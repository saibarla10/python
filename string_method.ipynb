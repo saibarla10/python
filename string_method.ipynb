{
  "nbformat": 4,
  "nbformat_minor": 0,
  "metadata": {
    "colab": {
      "provenance": []
    },
    "kernelspec": {
      "name": "python3",
      "display_name": "Python 3"
    },
    "language_info": {
      "name": "python"
    }
  },
  "cells": [
    {
      "cell_type": "markdown",
      "source": [
        "# string methods\n",
        "- sequence of a character\n",
        "- it is representated by ''or \" \" or '\" '\"\n"
      ],
      "metadata": {
        "id": "dKEv89JhG3BZ"
      }
    },
    {
      "cell_type": "code",
      "execution_count": null,
      "metadata": {
        "id": "U9tfw06pGuoW"
      },
      "outputs": [],
      "source": [
        "# examples"
      ]
    },
    {
      "cell_type": "code",
      "source": [
        "word = \"Data science\"\n",
        "print(word[3])"
      ],
      "metadata": {
        "colab": {
          "base_uri": "https://localhost:8080/"
        },
        "id": "CQVjQGOeHloW",
        "outputId": "4c77f1c6-885d-4f61-fead-7cea7435f092"
      },
      "execution_count": null,
      "outputs": [
        {
          "output_type": "stream",
          "name": "stdout",
          "text": [
            "a\n"
          ]
        }
      ]
    },
    {
      "cell_type": "code",
      "source": [
        "print(word[2:7])"
      ],
      "metadata": {
        "colab": {
          "base_uri": "https://localhost:8080/"
        },
        "id": "Fn3la5nkHsuU",
        "outputId": "52977e59-091d-4dab-8e05-56af1d40c971"
      },
      "execution_count": null,
      "outputs": [
        {
          "output_type": "stream",
          "name": "stdout",
          "text": [
            "ta sc\n"
          ]
        }
      ]
    },
    {
      "cell_type": "markdown",
      "source": [
        "# .Format method()\n"
      ],
      "metadata": {
        "id": "UX9_uCzEIR3k"
      }
    },
    {
      "cell_type": "code",
      "source": [
        "# examples"
      ],
      "metadata": {
        "id": "iXglFnxnIKVJ"
      },
      "execution_count": null,
      "outputs": []
    },
    {
      "cell_type": "code",
      "source": [
        "name = \"sai\"\n",
        "age = 24\n",
        "print('my name is {} and i am {} old'.format(name,age))"
      ],
      "metadata": {
        "colab": {
          "base_uri": "https://localhost:8080/"
        },
        "id": "R3ttcDt8Icjs",
        "outputId": "7e797bf8-dbf9-4eca-cc28-3205c86e2aae"
      },
      "execution_count": null,
      "outputs": [
        {
          "output_type": "stream",
          "name": "stdout",
          "text": [
            "my name is sai and i am 24 old\n"
          ]
        }
      ]
    },
    {
      "cell_type": "code",
      "source": [
        "institute = \"school\"\n",
        "place = \"vizag\"\n",
        "print('i am studying {} in {}'.format(institute,place))"
      ],
      "metadata": {
        "colab": {
          "base_uri": "https://localhost:8080/"
        },
        "id": "FcD5sreBIzZu",
        "outputId": "c5a4b4ff-e6ff-45c1-f6db-c02d5afea346"
      },
      "execution_count": null,
      "outputs": [
        {
          "output_type": "stream",
          "name": "stdout",
          "text": [
            "i am studying school in vizag\n"
          ]
        }
      ]
    },
    {
      "cell_type": "markdown",
      "source": [
        "# f.string method()"
      ],
      "metadata": {
        "id": "VVDL_z_jKup9"
      }
    },
    {
      "cell_type": "code",
      "source": [
        "# examples"
      ],
      "metadata": {
        "id": "583K37WaJiHZ"
      },
      "execution_count": null,
      "outputs": []
    },
    {
      "cell_type": "code",
      "source": [
        "print(f'i am studying {institute} in {place}')"
      ],
      "metadata": {
        "colab": {
          "base_uri": "https://localhost:8080/"
        },
        "id": "XKQ76IoCK1IU",
        "outputId": "1a31a737-709c-41c2-f2db-addfd2b9ea19"
      },
      "execution_count": null,
      "outputs": [
        {
          "output_type": "stream",
          "name": "stdout",
          "text": [
            "i am studying school in vizag\n"
          ]
        }
      ]
    },
    {
      "cell_type": "markdown",
      "source": [
        "# concatation - To add the given list elements."
      ],
      "metadata": {
        "id": "_Jq_fcw9LKLv"
      }
    },
    {
      "cell_type": "code",
      "source": [
        "# examples"
      ],
      "metadata": {
        "id": "GB_KImvVLCtk"
      },
      "execution_count": null,
      "outputs": []
    },
    {
      "cell_type": "code",
      "source": [
        "a = \"hello\"\n",
        "b = \"world\"\n",
        "c = a + \" \" + b\n",
        "print(c)"
      ],
      "metadata": {
        "colab": {
          "base_uri": "https://localhost:8080/"
        },
        "id": "tZU1vjj7LZXW",
        "outputId": "e308a475-c613-4735-db8d-c28cbc3fb9a2"
      },
      "execution_count": null,
      "outputs": [
        {
          "output_type": "stream",
          "name": "stdout",
          "text": [
            "hello world\n"
          ]
        }
      ]
    },
    {
      "cell_type": "code",
      "source": [
        "word = \"teks\"\n",
        "place = \"hitech city\"\n",
        "print(word + \" \" + place)\n"
      ],
      "metadata": {
        "colab": {
          "base_uri": "https://localhost:8080/"
        },
        "id": "MWTd5IZPLtY4",
        "outputId": "283eee48-b347-4617-ecee-fd5974674829"
      },
      "execution_count": null,
      "outputs": [
        {
          "output_type": "stream",
          "name": "stdout",
          "text": [
            "teks hitech city\n"
          ]
        }
      ]
    },
    {
      "cell_type": "code",
      "source": [
        "a = \"vizag\"\n",
        "b = \"city\"\n",
        "print(a + \" \" + b)"
      ],
      "metadata": {
        "colab": {
          "base_uri": "https://localhost:8080/"
        },
        "id": "TzJCcTqEM2jE",
        "outputId": "0566b77a-b808-4a9a-e669-586621b29f23"
      },
      "execution_count": null,
      "outputs": [
        {
          "output_type": "stream",
          "name": "stdout",
          "text": [
            "vizag city\n"
          ]
        }
      ]
    },
    {
      "cell_type": "markdown",
      "source": [
        "# repeatation - To repeat the list."
      ],
      "metadata": {
        "id": "234FKX9GOuTG"
      }
    },
    {
      "cell_type": "code",
      "source": [
        "# examples"
      ],
      "metadata": {
        "id": "FiU0lRZyN7cr"
      },
      "execution_count": null,
      "outputs": []
    },
    {
      "cell_type": "code",
      "source": [
        "sentence = \"it will start at 7:30 pm\"\n",
        "print(sentence * 3)"
      ],
      "metadata": {
        "colab": {
          "base_uri": "https://localhost:8080/"
        },
        "id": "BH99F3WdPIDy",
        "outputId": "7a2d0588-844a-40fd-cd6d-8157dc9747e1"
      },
      "execution_count": null,
      "outputs": [
        {
          "output_type": "stream",
          "name": "stdout",
          "text": [
            "it will start at 7:30 pmit will start at 7:30 pmit will start at 7:30 pm\n"
          ]
        }
      ]
    },
    {
      "cell_type": "code",
      "source": [
        "word = \"i have three bags\"\n",
        "print(word * 5)"
      ],
      "metadata": {
        "colab": {
          "base_uri": "https://localhost:8080/"
        },
        "id": "aNqHzhsQPVKH",
        "outputId": "0bd4b67b-eb53-4f47-8013-70374c072988"
      },
      "execution_count": null,
      "outputs": [
        {
          "output_type": "stream",
          "name": "stdout",
          "text": [
            "i have three bagsi have three bagsi have three bagsi have three bagsi have three bags\n"
          ]
        }
      ]
    },
    {
      "cell_type": "code",
      "source": [
        "announcement = \"CMR is giving 50% offer\"\n",
        "print(announcement * 2)"
      ],
      "metadata": {
        "colab": {
          "base_uri": "https://localhost:8080/"
        },
        "id": "FnqZjF9pPmV9",
        "outputId": "1ac43f5b-28cb-4d53-9590-220bd7087437"
      },
      "execution_count": null,
      "outputs": [
        {
          "output_type": "stream",
          "name": "stdout",
          "text": [
            "CMR is giving 50% offerCMR is giving 50% offer\n"
          ]
        }
      ]
    },
    {
      "cell_type": "markdown",
      "source": [
        "# string methods"
      ],
      "metadata": {
        "id": "xjGojln1QFiD"
      }
    },
    {
      "cell_type": "markdown",
      "source": [
        "# len() - To measure the list."
      ],
      "metadata": {
        "id": "kMn6Lse_QN7D"
      }
    },
    {
      "cell_type": "code",
      "source": [
        "a = \"python\"\n",
        "print(len(a))"
      ],
      "metadata": {
        "colab": {
          "base_uri": "https://localhost:8080/"
        },
        "id": "Hd2UV-9gQhCT",
        "outputId": "75004779-9d53-4d48-8707-a5e19a073fa6"
      },
      "execution_count": null,
      "outputs": [
        {
          "output_type": "stream",
          "name": "stdout",
          "text": [
            "6\n"
          ]
        }
      ]
    },
    {
      "cell_type": "code",
      "source": [
        "word = \"hello world\"\n",
        "print(len(word))"
      ],
      "metadata": {
        "colab": {
          "base_uri": "https://localhost:8080/"
        },
        "id": "IWEAW_fxQmHB",
        "outputId": "9229ff57-4330-4a50-b89b-e84fd951b007"
      },
      "execution_count": null,
      "outputs": [
        {
          "output_type": "stream",
          "name": "stdout",
          "text": [
            "11\n"
          ]
        }
      ]
    },
    {
      "cell_type": "code",
      "source": [
        "place = \"vizag\"\n",
        "print(len(place))"
      ],
      "metadata": {
        "colab": {
          "base_uri": "https://localhost:8080/"
        },
        "id": "zBaIzoeqQya4",
        "outputId": "460c5b8d-9978-41c2-ecde-084c7c1c523b"
      },
      "execution_count": null,
      "outputs": [
        {
          "output_type": "stream",
          "name": "stdout",
          "text": [
            "5\n"
          ]
        }
      ]
    },
    {
      "cell_type": "code",
      "source": [
        "star = \"twinkle\"\n",
        "print(len(star))"
      ],
      "metadata": {
        "colab": {
          "base_uri": "https://localhost:8080/"
        },
        "id": "UEHKgcFhQ5Ny",
        "outputId": "e409b993-22e4-4a54-c573-40d48723671f"
      },
      "execution_count": null,
      "outputs": [
        {
          "output_type": "stream",
          "name": "stdout",
          "text": [
            "7\n"
          ]
        }
      ]
    },
    {
      "cell_type": "code",
      "source": [
        "marks = \"tenth\"\n",
        "print(len(marks))"
      ],
      "metadata": {
        "colab": {
          "base_uri": "https://localhost:8080/"
        },
        "id": "UPRLDC06TbuZ",
        "outputId": "5bddf268-54bb-4d1a-d995-082053f6edfe"
      },
      "execution_count": null,
      "outputs": [
        {
          "output_type": "stream",
          "name": "stdout",
          "text": [
            "5\n"
          ]
        }
      ]
    },
    {
      "cell_type": "markdown",
      "source": [
        "# upper() - To change the list into lower to upper."
      ],
      "metadata": {
        "id": "uejzBXu9UP3D"
      }
    },
    {
      "cell_type": "code",
      "source": [
        "# examples"
      ],
      "metadata": {
        "id": "PuUfXoBdTmXP"
      },
      "execution_count": null,
      "outputs": []
    },
    {
      "cell_type": "code",
      "source": [
        "a = \"name\"\n",
        "print(a.upper())"
      ],
      "metadata": {
        "colab": {
          "base_uri": "https://localhost:8080/"
        },
        "id": "Q5hU558aUbnE",
        "outputId": "bf0f772e-8f70-4255-9e0b-ec64c530a002"
      },
      "execution_count": null,
      "outputs": [
        {
          "output_type": "stream",
          "name": "stdout",
          "text": [
            "NAME\n"
          ]
        }
      ]
    },
    {
      "cell_type": "code",
      "source": [
        "word = \"apple\"\n",
        "print(word.upper())"
      ],
      "metadata": {
        "colab": {
          "base_uri": "https://localhost:8080/"
        },
        "id": "bmaSxx2JUmKi",
        "outputId": "3d6721f4-9ffc-448e-b94d-238e04598218"
      },
      "execution_count": null,
      "outputs": [
        {
          "output_type": "stream",
          "name": "stdout",
          "text": [
            "APPLE\n"
          ]
        }
      ]
    },
    {
      "cell_type": "code",
      "source": [
        "place = \"vizag\"\n",
        "print(place.upper())"
      ],
      "metadata": {
        "colab": {
          "base_uri": "https://localhost:8080/"
        },
        "id": "EcPhTWN7Ux3X",
        "outputId": "74fd297a-d353-41e9-b0e6-a19acac8a65a"
      },
      "execution_count": null,
      "outputs": [
        {
          "output_type": "stream",
          "name": "stdout",
          "text": [
            "VIZAG\n"
          ]
        }
      ]
    },
    {
      "cell_type": "code",
      "source": [
        "marks = \"attendence\"\n",
        "print(marks.upper())"
      ],
      "metadata": {
        "colab": {
          "base_uri": "https://localhost:8080/"
        },
        "id": "IBh8o99UVNSL",
        "outputId": "2f5931a9-01ba-42c5-b8b4-2539c40271de"
      },
      "execution_count": null,
      "outputs": [
        {
          "output_type": "stream",
          "name": "stdout",
          "text": [
            "ATTENDENCE\n"
          ]
        }
      ]
    },
    {
      "cell_type": "code",
      "source": [
        "h = \"shelter\"\n",
        "print(h.upper())"
      ],
      "metadata": {
        "colab": {
          "base_uri": "https://localhost:8080/"
        },
        "id": "OVAHssN0VUtp",
        "outputId": "3478de55-49c5-4b72-912c-31553f176621"
      },
      "execution_count": null,
      "outputs": [
        {
          "output_type": "stream",
          "name": "stdout",
          "text": [
            "SHELTER\n"
          ]
        }
      ]
    },
    {
      "cell_type": "markdown",
      "source": [
        "# lower() - To change the list into upper to lower."
      ],
      "metadata": {
        "id": "xo7q5ebCVdGc"
      }
    },
    {
      "cell_type": "code",
      "source": [
        "# examples"
      ],
      "metadata": {
        "id": "wmwHbAMhVb1F"
      },
      "execution_count": null,
      "outputs": []
    },
    {
      "cell_type": "code",
      "source": [
        "word = \"PYTHON\"\n",
        "print(word.lower())"
      ],
      "metadata": {
        "colab": {
          "base_uri": "https://localhost:8080/"
        },
        "id": "BSzNjTHzVq9c",
        "outputId": "de93199a-63ef-43f2-d337-2a788f1d0236"
      },
      "execution_count": null,
      "outputs": [
        {
          "output_type": "stream",
          "name": "stdout",
          "text": [
            "python\n"
          ]
        }
      ]
    },
    {
      "cell_type": "code",
      "source": [
        "sentence = \"I AM A BAD BOY\"\n",
        "print(sentence.lower())"
      ],
      "metadata": {
        "colab": {
          "base_uri": "https://localhost:8080/"
        },
        "id": "BCHYyryTVw10",
        "outputId": "ac24c2e9-6828-430d-b9f7-f33d1cfffa27"
      },
      "execution_count": null,
      "outputs": [
        {
          "output_type": "stream",
          "name": "stdout",
          "text": [
            "i am a bad boy\n"
          ]
        }
      ]
    },
    {
      "cell_type": "code",
      "source": [
        "place = \"VIZAG CITY\"\n",
        "print(place.lower())"
      ],
      "metadata": {
        "colab": {
          "base_uri": "https://localhost:8080/"
        },
        "id": "Blrz4QIXV-FB",
        "outputId": "67802786-017e-4ce2-977c-fb0d27b7bb13"
      },
      "execution_count": null,
      "outputs": [
        {
          "output_type": "stream",
          "name": "stdout",
          "text": [
            "vizag city\n"
          ]
        }
      ]
    },
    {
      "cell_type": "code",
      "source": [
        "name = \"SAI\"\n",
        "print(name.lower())"
      ],
      "metadata": {
        "colab": {
          "base_uri": "https://localhost:8080/"
        },
        "id": "eZhnO65xWEm0",
        "outputId": "9b82ecb7-5b7f-424c-9185-0ffed8fd2009"
      },
      "execution_count": null,
      "outputs": [
        {
          "output_type": "stream",
          "name": "stdout",
          "text": [
            "sai\n"
          ]
        }
      ]
    },
    {
      "cell_type": "code",
      "source": [
        "values = \"SIXTY\"\n",
        "print(values.lower())"
      ],
      "metadata": {
        "colab": {
          "base_uri": "https://localhost:8080/"
        },
        "id": "umFPv_2UWVOZ",
        "outputId": "ce0d70cc-30ce-49cc-c790-ad5777e9769b"
      },
      "execution_count": null,
      "outputs": [
        {
          "output_type": "stream",
          "name": "stdout",
          "text": [
            "sixty\n"
          ]
        }
      ]
    },
    {
      "cell_type": "markdown",
      "source": [
        "# count()"
      ],
      "metadata": {
        "id": "LlKEsWgIWoSj"
      }
    },
    {
      "cell_type": "code",
      "source": [
        "# examples"
      ],
      "metadata": {
        "id": "A5zkQBa1WhCj"
      },
      "execution_count": null,
      "outputs": []
    },
    {
      "cell_type": "code",
      "source": [
        "a = \"data science\"\n",
        "print(a.count('e'))"
      ],
      "metadata": {
        "colab": {
          "base_uri": "https://localhost:8080/"
        },
        "id": "eg68Sc6VWxC6",
        "outputId": "e9cbe06a-9c88-4be2-96ae-6cddd4f41d29"
      },
      "execution_count": null,
      "outputs": [
        {
          "output_type": "stream",
          "name": "stdout",
          "text": [
            "2\n"
          ]
        }
      ]
    },
    {
      "cell_type": "code",
      "source": [
        "word = \"pythonpp\"\n",
        "print(word.count('p'))"
      ],
      "metadata": {
        "colab": {
          "base_uri": "https://localhost:8080/"
        },
        "id": "bxOav2fCW8L9",
        "outputId": "5dc2e7b9-a970-44da-e665-e153fd5159d4"
      },
      "execution_count": null,
      "outputs": [
        {
          "output_type": "stream",
          "name": "stdout",
          "text": [
            "3\n"
          ]
        }
      ]
    },
    {
      "cell_type": "code",
      "source": [
        "sentence = \"i am a bad boy in the classroom\"\n",
        "print(sentence.count('a'))"
      ],
      "metadata": {
        "colab": {
          "base_uri": "https://localhost:8080/"
        },
        "id": "WaWUZtquXt_8",
        "outputId": "1a172824-995b-47c8-94c0-28f04602912f"
      },
      "execution_count": null,
      "outputs": [
        {
          "output_type": "stream",
          "name": "stdout",
          "text": [
            "4\n"
          ]
        }
      ]
    },
    {
      "cell_type": "code",
      "source": [
        "train = \"the train has been stopped\"\n",
        "print(train.count('p'))"
      ],
      "metadata": {
        "colab": {
          "base_uri": "https://localhost:8080/"
        },
        "id": "xPImCSQ5X6Ob",
        "outputId": "e7f9b3ca-7542-47fb-ade9-9adb11c70018"
      },
      "execution_count": null,
      "outputs": [
        {
          "output_type": "stream",
          "name": "stdout",
          "text": [
            "2\n"
          ]
        }
      ]
    },
    {
      "cell_type": "code",
      "source": [
        "values = \"sixteen and some integers\"\n",
        "print(values.count('e'))"
      ],
      "metadata": {
        "colab": {
          "base_uri": "https://localhost:8080/"
        },
        "id": "r7GhYHfoYJn2",
        "outputId": "bcb4afea-19af-4f01-9c30-73ca0758c345"
      },
      "execution_count": null,
      "outputs": [
        {
          "output_type": "stream",
          "name": "stdout",
          "text": [
            "5\n"
          ]
        }
      ]
    },
    {
      "cell_type": "markdown",
      "source": [
        "# split() - To split the data."
      ],
      "metadata": {
        "id": "juxsSMdQYaYl"
      }
    },
    {
      "cell_type": "code",
      "source": [
        "# examples"
      ],
      "metadata": {
        "id": "VtIF5a-pYWBZ"
      },
      "execution_count": null,
      "outputs": []
    },
    {
      "cell_type": "code",
      "source": [
        "v = \"i am the one\"\n",
        "print(v.split())"
      ],
      "metadata": {
        "colab": {
          "base_uri": "https://localhost:8080/"
        },
        "id": "dbBB_toGYhjI",
        "outputId": "2259129a-5887-4ed6-ceac-5cf24d81fb5b"
      },
      "execution_count": null,
      "outputs": [
        {
          "output_type": "stream",
          "name": "stdout",
          "text": [
            "['i', 'am', 'the', 'one']\n"
          ]
        }
      ]
    },
    {
      "cell_type": "code",
      "source": [
        "word = \"he is a bad boy\"\n",
        "print(word.split())"
      ],
      "metadata": {
        "colab": {
          "base_uri": "https://localhost:8080/"
        },
        "id": "-Uq0bnurYr-A",
        "outputId": "fdbcb379-c854-4ab5-c1db-03146a598ff7"
      },
      "execution_count": null,
      "outputs": [
        {
          "output_type": "stream",
          "name": "stdout",
          "text": [
            "['he', 'is', 'a', 'bad', 'boy']\n"
          ]
        }
      ]
    },
    {
      "cell_type": "code",
      "source": [
        "train = \"it has started in the morning\"\n",
        "print(train.split())"
      ],
      "metadata": {
        "colab": {
          "base_uri": "https://localhost:8080/"
        },
        "id": "0RWAkJNaY0C9",
        "outputId": "5ac7926c-8dcd-426b-fa79-aaf33cf4ffa9"
      },
      "execution_count": null,
      "outputs": [
        {
          "output_type": "stream",
          "name": "stdout",
          "text": [
            "['it', 'has', 'started', 'in', 'the', 'morning']\n"
          ]
        }
      ]
    },
    {
      "cell_type": "code",
      "source": [
        "class_var = \"he is a good boy in the class\"\n",
        "print(class_var.split())"
      ],
      "metadata": {
        "colab": {
          "base_uri": "https://localhost:8080/"
        },
        "id": "dQVuv43rZRmE",
        "outputId": "6f039de6-f5f3-4322-d2f7-439c886c33ef"
      },
      "execution_count": null,
      "outputs": [
        {
          "output_type": "stream",
          "name": "stdout",
          "text": [
            "['he', 'is', 'a', 'good', 'boy', 'in', 'the', 'class']\n"
          ]
        }
      ]
    },
    {
      "cell_type": "markdown",
      "source": [
        "# strip() - To remove the white space in starting and ending of the element."
      ],
      "metadata": {
        "id": "IjhHy5n_aEkI"
      }
    },
    {
      "cell_type": "code",
      "source": [
        "# examples"
      ],
      "metadata": {
        "id": "wGsnTwpzZbUo"
      },
      "execution_count": null,
      "outputs": []
    },
    {
      "cell_type": "code",
      "source": [
        "a = \"_name\"\n",
        "print(a.strip())"
      ],
      "metadata": {
        "colab": {
          "base_uri": "https://localhost:8080/"
        },
        "id": "JoIY_Vq4aTwG",
        "outputId": "e996fd08-a117-4979-a044-d4cd2bf6919a"
      },
      "execution_count": null,
      "outputs": [
        {
          "output_type": "stream",
          "name": "stdout",
          "text": [
            "_name\n"
          ]
        }
      ]
    },
    {
      "cell_type": "code",
      "source": [],
      "metadata": {
        "id": "z6nygfn3abFT"
      },
      "execution_count": null,
      "outputs": []
    }
  ]
}