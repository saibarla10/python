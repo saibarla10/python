{
  "cells": [
    {
      "cell_type": "markdown",
      "source": [
        "1. what is python?"
      ],
      "metadata": {
        "id": "hnQ5gZ3AHhPc"
      }
    },
    {
      "cell_type": "markdown",
      "source": [
        "\n",
        "\n",
        "*   python is a high-level language that can be easily understand by human\n",
        "    being.\n",
        "*   It is used to develop the websites,gaming,web-development,data analysis,\n",
        "    etc...,\n",
        "*   it is connected to whole databases.\n",
        "\n"
      ],
      "metadata": {
        "id": "RsIZIFSuHl48"
      }
    },
    {
      "cell_type": "markdown",
      "source": [
        "2. what are the key features of python?"
      ],
      "metadata": {
        "id": "WjTpDje-Jgn8"
      }
    },
    {
      "cell_type": "markdown",
      "source": [
        "\n",
        "\n",
        "*   It is high-level programming\n",
        "*   Easy to understand\n",
        "*   Easy to connect with databases\n",
        "*   Easy to handle\n",
        "*   It is open source\n",
        "\n",
        "\n"
      ],
      "metadata": {
        "id": "P_S5YJUHJt4c"
      }
    },
    {
      "cell_type": "markdown",
      "source": [
        "3. how is python different from other programming languages?"
      ],
      "metadata": {
        "id": "tFQAlY6fK37s"
      }
    },
    {
      "cell_type": "markdown",
      "source": [
        "\n",
        "\n",
        "*   It is easy to readable and simple sintax\n",
        "*   It has a standard library\n",
        "*   It is dynamically types\n",
        "\n"
      ],
      "metadata": {
        "id": "fPmvXWHFLSh8"
      }
    },
    {
      "cell_type": "markdown",
      "source": [
        "4. what are python's datatypes?"
      ],
      "metadata": {
        "id": "xI-OXTq8MI77"
      }
    },
    {
      "cell_type": "markdown",
      "source": [
        "\n",
        "\n",
        "1.   Datatypes are two types:\n",
        "     * Baisc datatypes\n",
        "          1. int\n",
        "          2. float\n",
        "          3. complex\n",
        "          4. boolean\n",
        "     * Advance datatypes\n",
        "          1. string\n",
        "          2. list\n",
        "          3. set\n",
        "          4. tuple\n",
        "          5. dictionary"
      ],
      "metadata": {
        "id": "losDSUYAMZCk"
      }
    },
    {
      "cell_type": "markdown",
      "source": [
        "5. what is difference between list and tuple?"
      ],
      "metadata": {
        "id": "hC8vuY18Nfg8"
      }
    },
    {
      "cell_type": "markdown",
      "source": [
        "\n",
        "\n",
        "*   list -\n",
        "           it is used to collect elements,values,items,etc..,\n",
        "           it is denoted by square brackets []\n",
        "           list is mutable and it can be edit,modify and update\n",
        "\n"
      ],
      "metadata": {
        "id": "Mf1hzNQyNo20"
      }
    },
    {
      "cell_type": "markdown",
      "source": [
        "\n",
        "\n",
        "*   tuple -\n",
        "           it is an order of elements or collection of elements.\n",
        "           it is denoted by curely brackets {}\n",
        "           it is immutable\n"
      ],
      "metadata": {
        "id": "e55lJ4oSOf5k"
      }
    },
    {
      "cell_type": "markdown",
      "source": [
        "6. how do you comment in python?"
      ],
      "metadata": {
        "id": "jgGvIkoYPm1s"
      }
    },
    {
      "cell_type": "markdown",
      "source": [
        "\n",
        "- It is used to define the whole programming which we work on.\n",
        "\n",
        "\n"
      ],
      "metadata": {
        "id": "ivIr0QcmPz0U"
      }
    },
    {
      "cell_type": "markdown",
      "source": [
        "7. what is the difference between break,continue,pass?"
      ],
      "metadata": {
        "id": "OI1oH80LQPRE"
      }
    },
    {
      "cell_type": "markdown",
      "source": [
        "* Break - it is used to break the given range of the function.\n",
        "* Continue - it is used to continue from the range of the function.\n",
        "* Pass - it is used to pass the given range and didn't perform any function.\n",
        "\n"
      ],
      "metadata": {
        "id": "R0PRnO2fQZ9r"
      }
    },
    {
      "cell_type": "markdown",
      "source": [
        "8. what is the difference betweeen is and ==?"
      ],
      "metadata": {
        "id": "VKh61Sq0RCO0"
      }
    },
    {
      "cell_type": "markdown",
      "source": [
        "* IS - it is a identity operator which is used to compare identity but not the values.\n",
        "* == - it is used to compare the values.\n",
        "\n"
      ],
      "metadata": {
        "id": "z8WuiRUbSCbt"
      }
    },
    {
      "cell_type": "markdown",
      "source": [
        "9. how do define a function in python?"
      ],
      "metadata": {
        "id": "Ac7l_B-ZSvFE"
      }
    },
    {
      "cell_type": "markdown",
      "source": [
        "* Function is defined using def keyword following paranthesis () and colon : and given parameters.  \n"
      ],
      "metadata": {
        "id": "PR7SClrxTCZT"
      }
    },
    {
      "cell_type": "code",
      "source": [
        "#  coding questions:"
      ],
      "metadata": {
        "id": "_jatWItAVrR0"
      },
      "execution_count": null,
      "outputs": []
    },
    {
      "cell_type": "markdown",
      "source": [
        "1. python code to reverse a string?"
      ],
      "metadata": {
        "id": "NUFU0WPrWZvc"
      }
    },
    {
      "cell_type": "code",
      "source": [
        "str = \"apple\"\n",
        "print(str[::-1])"
      ],
      "metadata": {
        "colab": {
          "base_uri": "https://localhost:8080/"
        },
        "id": "nx0HNZosYDWT",
        "outputId": "99ce0ad5-eb35-4216-c5ee-b4bc74f33eba"
      },
      "execution_count": null,
      "outputs": [
        {
          "output_type": "stream",
          "name": "stdout",
          "text": [
            "elppa\n"
          ]
        }
      ]
    },
    {
      "cell_type": "markdown",
      "source": [
        "2. check if a number is even or odd?"
      ],
      "metadata": {
        "id": "xZAoWadwYmGs"
      }
    },
    {
      "cell_type": "code",
      "source": [
        "a = int(input(\"enter a number:\"))\n",
        "if a%2==0:\n",
        "  print(\"even number\")\n",
        "else:\n",
        "  print(\"odd number\")"
      ],
      "metadata": {
        "id": "UhJ92GJsarSz",
        "colab": {
          "base_uri": "https://localhost:8080/"
        },
        "outputId": "e568f129-3893-4f8d-96bf-3aff83bad48d"
      },
      "execution_count": 22,
      "outputs": [
        {
          "output_type": "stream",
          "name": "stdout",
          "text": [
            "enter a number:13\n",
            "odd number\n"
          ]
        }
      ]
    },
    {
      "cell_type": "markdown",
      "source": [
        "3. check if a string is a palindrome?"
      ],
      "metadata": {
        "id": "PhZLAJRqcH2k"
      }
    },
    {
      "cell_type": "code",
      "source": [
        "string = input(\"enter a string\")\n",
        "string1 = string[::-1]\n",
        "if (string == string1):\n",
        "  print(\"palindrome\")\n",
        "else:\n",
        "  print(\"not palindrome\")"
      ],
      "metadata": {
        "colab": {
          "base_uri": "https://localhost:8080/"
        },
        "id": "KP0IpYy3bDPF",
        "outputId": "99c52b49-9f99-4868-d3bc-3a0dde945c13"
      },
      "execution_count": 23,
      "outputs": [
        {
          "output_type": "stream",
          "name": "stdout",
          "text": [
            "enter a stringapple\n",
            "not palindrome\n"
          ]
        }
      ]
    },
    {
      "cell_type": "markdown",
      "source": [
        "4.calculate the factorial of a number?"
      ],
      "metadata": {
        "id": "7p_tymGhcu0c"
      }
    },
    {
      "cell_type": "code",
      "source": [
        "num = int(input(\"enter a number:\"))\n",
        "sum = 1\n",
        "while(num>0):\n",
        "  sum = sum*num\n",
        "  num = num-1\n",
        "  print(sum)"
      ],
      "metadata": {
        "colab": {
          "base_uri": "https://localhost:8080/"
        },
        "id": "GKjDc2fCcr3k",
        "outputId": "072d495f-30a0-4ed8-a574-1dbe14be9ef2"
      },
      "execution_count": 26,
      "outputs": [
        {
          "output_type": "stream",
          "name": "stdout",
          "text": [
            "enter a number:10\n",
            "10\n",
            "90\n",
            "720\n",
            "5040\n",
            "30240\n",
            "151200\n",
            "604800\n",
            "1814400\n",
            "3628800\n",
            "3628800\n"
          ]
        }
      ]
    },
    {
      "cell_type": "markdown",
      "source": [
        "5. find the GCD of two numbers?"
      ],
      "metadata": {
        "id": "ugj4b1JXds5s"
      }
    },
    {
      "cell_type": "markdown",
      "source": [
        "6. remove duplicates from list?"
      ],
      "metadata": {
        "id": "sY6dU-uDe34D"
      }
    },
    {
      "cell_type": "code",
      "source": [
        "a = [1,2,3,3,2,6,9,9,8,8,7,7,6]\n",
        "a.remove(3)\n",
        "a.remove(9)\n",
        "a.remove(7)\n",
        "a.remove(2)\n",
        "a.remove(8)\n",
        "print(a)"
      ],
      "metadata": {
        "colab": {
          "base_uri": "https://localhost:8080/"
        },
        "id": "PzI-TeWDdZDV",
        "outputId": "e6ef030d-7dab-4ea8-ea66-de721e099377"
      },
      "execution_count": 32,
      "outputs": [
        {
          "output_type": "stream",
          "name": "stdout",
          "text": [
            "[1, 3, 2, 6, 9, 8, 7, 6]\n"
          ]
        }
      ]
    },
    {
      "cell_type": "markdown",
      "source": [
        "7. find the common elements in two lists?"
      ],
      "metadata": {
        "id": "Fi6fXxEXgWxc"
      }
    },
    {
      "cell_type": "code",
      "source": [
        "a = [1,23,34,67,3,9,8,]\n",
        "b = [2,3,5,7,67,34,8]\n",
        "for i in a:\n",
        "  if i in b:\n",
        "    print(i)"
      ],
      "metadata": {
        "colab": {
          "base_uri": "https://localhost:8080/"
        },
        "id": "PASrKk5UfsxE",
        "outputId": "3cd4607e-35ff-455d-c1b9-c7a02b909d3e"
      },
      "execution_count": 33,
      "outputs": [
        {
          "output_type": "stream",
          "name": "stdout",
          "text": [
            "34\n",
            "67\n",
            "3\n",
            "8\n"
          ]
        }
      ]
    },
    {
      "cell_type": "markdown",
      "source": [
        "8. find the mode(most of frequent elements) in a list?"
      ],
      "metadata": {
        "id": "P5CPA-ntg3JM"
      }
    },
    {
      "cell_type": "code",
      "source": [],
      "metadata": {
        "id": "sDyzA33Ag10j"
      },
      "execution_count": null,
      "outputs": []
    }
  ],
  "metadata": {
    "colab": {
      "toc_visible": true,
      "provenance": []
    },
    "kernelspec": {
      "display_name": "Python 3",
      "name": "python3"
    }
  },
  "nbformat": 4,
  "nbformat_minor": 0
}