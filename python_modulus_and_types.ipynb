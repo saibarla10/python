{
  "cells": [
    {
      "cell_type": "markdown",
      "source": [
        "# NUMPY"
      ],
      "metadata": {
        "id": "ydtTiNK2Ehs-"
      }
    },
    {
      "cell_type": "code",
      "source": [
        "!pip install numpy"
      ],
      "metadata": {
        "colab": {
          "base_uri": "https://localhost:8080/"
        },
        "id": "EHH8sFdSDZk9",
        "outputId": "277d4347-18ac-49a6-8c57-6525f1c0b674"
      },
      "execution_count": null,
      "outputs": [
        {
          "output_type": "stream",
          "name": "stdout",
          "text": [
            "Requirement already satisfied: numpy in /usr/local/lib/python3.11/dist-packages (1.26.4)\n"
          ]
        }
      ]
    },
    {
      "cell_type": "code",
      "source": [
        "import numpy as np"
      ],
      "metadata": {
        "id": "R_wv-zBrDdPu"
      },
      "execution_count": null,
      "outputs": []
    },
    {
      "cell_type": "code",
      "source": [
        "a = np.array([1,2,3])"
      ],
      "metadata": {
        "id": "5KEcyHnPDj8X"
      },
      "execution_count": null,
      "outputs": []
    },
    {
      "cell_type": "code",
      "source": [
        "b = np.array([[3,4,5],[3,4,5]])"
      ],
      "metadata": {
        "id": "JtuCoMeSDuP2"
      },
      "execution_count": null,
      "outputs": []
    },
    {
      "cell_type": "code",
      "source": [
        "c = np.array([[[3,4,5],[3,4,5],[4,5,6]],[[3,4,5],[3,4,5],[4,5,6]]])"
      ],
      "metadata": {
        "id": "wgz9PMeVD7RQ"
      },
      "execution_count": null,
      "outputs": []
    },
    {
      "cell_type": "code",
      "source": [
        "print(a)"
      ],
      "metadata": {
        "colab": {
          "base_uri": "https://localhost:8080/"
        },
        "id": "PjiXtYn6ESX5",
        "outputId": "76eef1cf-b5d0-40e3-c8d7-e929fe320ffd"
      },
      "execution_count": null,
      "outputs": [
        {
          "output_type": "stream",
          "name": "stdout",
          "text": [
            "[1 2 3]\n"
          ]
        }
      ]
    },
    {
      "cell_type": "code",
      "source": [
        "print(b)"
      ],
      "metadata": {
        "colab": {
          "base_uri": "https://localhost:8080/"
        },
        "id": "a9aOYifsEWac",
        "outputId": "b1a12bc0-1da8-4396-d700-2bd4b0e07cd9"
      },
      "execution_count": null,
      "outputs": [
        {
          "output_type": "stream",
          "name": "stdout",
          "text": [
            "[[3 4 5]\n",
            " [3 4 5]]\n"
          ]
        }
      ]
    },
    {
      "cell_type": "code",
      "source": [
        "print(c)"
      ],
      "metadata": {
        "colab": {
          "base_uri": "https://localhost:8080/"
        },
        "id": "nCxH2ebuEX6B",
        "outputId": "95c9b854-7d3b-466c-cfad-dc5ccd2e4cc0"
      },
      "execution_count": null,
      "outputs": [
        {
          "output_type": "stream",
          "name": "stdout",
          "text": [
            "[[[3 4 5]\n",
            "  [3 4 5]\n",
            "  [4 5 6]]\n",
            "\n",
            " [[3 4 5]\n",
            "  [3 4 5]\n",
            "  [4 5 6]]]\n"
          ]
        }
      ]
    },
    {
      "cell_type": "markdown",
      "source": [
        "# INITIAL PLACEHOLDERS"
      ],
      "metadata": {
        "id": "zFDL17A8EmnS"
      }
    },
    {
      "cell_type": "code",
      "source": [
        "# create an array of zeros:"
      ],
      "metadata": {
        "id": "SG-AHb2kEZlx"
      },
      "execution_count": null,
      "outputs": []
    },
    {
      "cell_type": "code",
      "source": [
        "np.zeros ((3,6))"
      ],
      "metadata": {
        "colab": {
          "base_uri": "https://localhost:8080/"
        },
        "id": "SrZ78qYME0xd",
        "outputId": "d2ea0c23-9dd4-4964-fe00-f53e06b6d72f"
      },
      "execution_count": null,
      "outputs": [
        {
          "output_type": "execute_result",
          "data": {
            "text/plain": [
              "array([[0., 0., 0., 0., 0., 0.],\n",
              "       [0., 0., 0., 0., 0., 0.],\n",
              "       [0., 0., 0., 0., 0., 0.]])"
            ]
          },
          "metadata": {},
          "execution_count": 12
        }
      ]
    },
    {
      "cell_type": "code",
      "source": [
        "# create an array of ones:"
      ],
      "metadata": {
        "id": "hauFkkb6E6Ty"
      },
      "execution_count": null,
      "outputs": []
    },
    {
      "cell_type": "code",
      "source": [
        "np.ones ((3,3,2))"
      ],
      "metadata": {
        "colab": {
          "base_uri": "https://localhost:8080/"
        },
        "id": "WPAa0c14FMCt",
        "outputId": "2b0e6d9e-a630-49e6-c2c6-3dc72909f40f"
      },
      "execution_count": null,
      "outputs": [
        {
          "output_type": "execute_result",
          "data": {
            "text/plain": [
              "array([[[1., 1.],\n",
              "        [1., 1.],\n",
              "        [1., 1.]],\n",
              "\n",
              "       [[1., 1.],\n",
              "        [1., 1.],\n",
              "        [1., 1.]],\n",
              "\n",
              "       [[1., 1.],\n",
              "        [1., 1.],\n",
              "        [1., 1.]]])"
            ]
          },
          "metadata": {},
          "execution_count": 18
        }
      ]
    },
    {
      "cell_type": "code",
      "source": [
        "# create an array of evenly spaced values:"
      ],
      "metadata": {
        "id": "4v4Nr1YqFQhp"
      },
      "execution_count": null,
      "outputs": []
    },
    {
      "cell_type": "code",
      "source": [
        "d = np.arange (1,13,3)\n",
        "print(d)"
      ],
      "metadata": {
        "colab": {
          "base_uri": "https://localhost:8080/"
        },
        "id": "gXoN_g8uFx8v",
        "outputId": "1b8e0325-4564-4827-ecfe-ef498065ec6f"
      },
      "execution_count": null,
      "outputs": [
        {
          "output_type": "stream",
          "name": "stdout",
          "text": [
            "[ 1  4  7 10]\n"
          ]
        }
      ]
    },
    {
      "cell_type": "code",
      "source": [
        "# create an array of evenly spaced values:"
      ],
      "metadata": {
        "id": "qJ1Mrt8UIDch"
      },
      "execution_count": null,
      "outputs": []
    },
    {
      "cell_type": "code",
      "source": [
        "np.linspace (1,3,10)"
      ],
      "metadata": {
        "colab": {
          "base_uri": "https://localhost:8080/"
        },
        "id": "HfDK7_bsG_Ir",
        "outputId": "854b8e4d-ea06-4fec-f8aa-26d7fe8bfb1f"
      },
      "execution_count": null,
      "outputs": [
        {
          "output_type": "execute_result",
          "data": {
            "text/plain": [
              "array([1.        , 1.22222222, 1.44444444, 1.66666667, 1.88888889,\n",
              "       2.11111111, 2.33333333, 2.55555556, 2.77777778, 3.        ])"
            ]
          },
          "metadata": {},
          "execution_count": 9
        }
      ]
    },
    {
      "cell_type": "code",
      "source": [
        "# create a constant array: create a 1D array"
      ],
      "metadata": {
        "id": "EkGgtT_GF68E"
      },
      "execution_count": null,
      "outputs": []
    },
    {
      "cell_type": "code",
      "source": [
        "e = np.full ((4),7,)\n",
        "print(e)\n",
        "print(\"dim\",e.ndim)"
      ],
      "metadata": {
        "colab": {
          "base_uri": "https://localhost:8080/"
        },
        "id": "UhIkyJiLGyKN",
        "outputId": "98b83aa1-d103-48d1-a0f8-1e2517878844"
      },
      "execution_count": null,
      "outputs": [
        {
          "output_type": "stream",
          "name": "stdout",
          "text": [
            "[7 7 7 7]\n",
            "dim 1\n"
          ]
        }
      ]
    },
    {
      "cell_type": "code",
      "source": [
        "# create a 2D array"
      ],
      "metadata": {
        "id": "XCifsvq4HDhj"
      },
      "execution_count": null,
      "outputs": []
    },
    {
      "cell_type": "code",
      "source": [
        "e = np.full((3,4),3)\n",
        "print(e)\n",
        "print(\"dim\",e.ndim)"
      ],
      "metadata": {
        "colab": {
          "base_uri": "https://localhost:8080/"
        },
        "id": "2I2NNkKdHS27",
        "outputId": "733e3719-96f2-456f-b6a9-495ffb575df9"
      },
      "execution_count": null,
      "outputs": [
        {
          "output_type": "stream",
          "name": "stdout",
          "text": [
            "[[3 3 3 3]\n",
            " [3 3 3 3]\n",
            " [3 3 3 3]]\n",
            "dim 2\n"
          ]
        }
      ]
    },
    {
      "cell_type": "code",
      "source": [
        "# create a 3D array"
      ],
      "metadata": {
        "id": "dr-LQ-xkHhIR"
      },
      "execution_count": null,
      "outputs": []
    },
    {
      "cell_type": "code",
      "source": [
        "e = np.full ((4,3,5),7)\n",
        "print(e)\n",
        "print(\"dim\",e.ndim)"
      ],
      "metadata": {
        "colab": {
          "base_uri": "https://localhost:8080/"
        },
        "id": "z56qyMXtH8NV",
        "outputId": "f8256aa4-5a8e-4e1d-e2c7-e565b3a8978d"
      },
      "execution_count": null,
      "outputs": [
        {
          "output_type": "stream",
          "name": "stdout",
          "text": [
            "[[[7 7 7 7 7]\n",
            "  [7 7 7 7 7]\n",
            "  [7 7 7 7 7]]\n",
            "\n",
            " [[7 7 7 7 7]\n",
            "  [7 7 7 7 7]\n",
            "  [7 7 7 7 7]]\n",
            "\n",
            " [[7 7 7 7 7]\n",
            "  [7 7 7 7 7]\n",
            "  [7 7 7 7 7]]\n",
            "\n",
            " [[7 7 7 7 7]\n",
            "  [7 7 7 7 7]\n",
            "  [7 7 7 7 7]]]\n",
            "dim 3\n"
          ]
        }
      ]
    },
    {
      "cell_type": "code",
      "source": [
        "# create a 2x2 identity matrix"
      ],
      "metadata": {
        "id": "fkir8oz3GwPT"
      },
      "execution_count": null,
      "outputs": []
    },
    {
      "cell_type": "code",
      "source": [
        "f = np.eye(5)\n",
        "print(f)"
      ],
      "metadata": {
        "colab": {
          "base_uri": "https://localhost:8080/"
        },
        "id": "WqGlSohxGwZc",
        "outputId": "95aa01e4-c8f7-4569-84b2-13211a643073"
      },
      "execution_count": null,
      "outputs": [
        {
          "output_type": "stream",
          "name": "stdout",
          "text": [
            "[[1. 0. 0. 0. 0.]\n",
            " [0. 1. 0. 0. 0.]\n",
            " [0. 0. 1. 0. 0.]\n",
            " [0. 0. 0. 1. 0.]\n",
            " [0. 0. 0. 0. 1.]]\n"
          ]
        }
      ]
    },
    {
      "cell_type": "code",
      "source": [
        "# create an array with random values:"
      ],
      "metadata": {
        "id": "ZMJbE5HxH1DC"
      },
      "execution_count": null,
      "outputs": []
    },
    {
      "cell_type": "code",
      "source": [
        "np.random.random ((2,3))"
      ],
      "metadata": {
        "colab": {
          "base_uri": "https://localhost:8080/"
        },
        "id": "W8QxmEDAIMsR",
        "outputId": "feb476fa-41cd-4e92-cf79-1f29961f3313"
      },
      "execution_count": null,
      "outputs": [
        {
          "output_type": "execute_result",
          "data": {
            "text/plain": [
              "array([[0.33601673, 0.56504174, 0.41413284],\n",
              "       [0.67726124, 0.89085536, 0.03978015]])"
            ]
          },
          "metadata": {},
          "execution_count": 14
        }
      ]
    },
    {
      "cell_type": "code",
      "source": [
        "np.random.randint(2,13)"
      ],
      "metadata": {
        "colab": {
          "base_uri": "https://localhost:8080/"
        },
        "id": "SgVOptyIIRMi",
        "outputId": "c94df01e-962c-4488-9313-b54d3bc9d017"
      },
      "execution_count": null,
      "outputs": [
        {
          "output_type": "execute_result",
          "data": {
            "text/plain": [
              "12"
            ]
          },
          "metadata": {},
          "execution_count": 16
        }
      ]
    },
    {
      "cell_type": "code",
      "source": [
        "# to find shape of an array:"
      ],
      "metadata": {
        "id": "ib31YQVaIcby"
      },
      "execution_count": null,
      "outputs": []
    },
    {
      "cell_type": "code",
      "source": [
        "arr = np.array([[1,2,3,4,5],\n",
        "                [6,7,8,9,18],\n",
        "                [1,2,3,4,5],\n",
        "                [3,4,5,6,7]])\n",
        "print(arr.shape)"
      ],
      "metadata": {
        "colab": {
          "base_uri": "https://localhost:8080/"
        },
        "id": "zDdvxnqpItvC",
        "outputId": "ba87341d-2a03-49cf-de9b-3ff9fe8d7e40"
      },
      "execution_count": null,
      "outputs": [
        {
          "output_type": "stream",
          "name": "stdout",
          "text": [
            "(4, 5)\n"
          ]
        }
      ]
    },
    {
      "cell_type": "code",
      "source": [
        "# to find no of elelments in array:"
      ],
      "metadata": {
        "id": "n97t8iDBJKBi"
      },
      "execution_count": null,
      "outputs": []
    },
    {
      "cell_type": "code",
      "source": [
        "arr = np.array([[1,2,3,4,5],\n",
        "                [3,4,5,6,7],\n",
        "                [5,6,7,8,9],\n",
        "                [1,2,3,4,5]])\n",
        "print(arr.size)"
      ],
      "metadata": {
        "colab": {
          "base_uri": "https://localhost:8080/"
        },
        "id": "yLPCgdQXJewi",
        "outputId": "ecf2e5d3-257f-4992-918d-c0efd2570735"
      },
      "execution_count": null,
      "outputs": [
        {
          "output_type": "stream",
          "name": "stdout",
          "text": [
            "20\n"
          ]
        }
      ]
    },
    {
      "cell_type": "code",
      "source": [
        "# to find the length of array:"
      ],
      "metadata": {
        "id": "9D5kZxVXJ12C"
      },
      "execution_count": null,
      "outputs": []
    },
    {
      "cell_type": "code",
      "source": [
        "arr = np.array([[1,2,3,4,5],\n",
        "                [3,4,5,6,7],\n",
        "                [7,6,5,4,3],\n",
        "                [4,5,6,7,8],\n",
        "                [9,8,7,6,5]])\n",
        "len(arr)"
      ],
      "metadata": {
        "colab": {
          "base_uri": "https://localhost:8080/"
        },
        "id": "1yH8UnaCJ__S",
        "outputId": "e65e0694-d283-4923-d9ac-860b4cd0a3db"
      },
      "execution_count": null,
      "outputs": [
        {
          "output_type": "execute_result",
          "data": {
            "text/plain": [
              "5"
            ]
          },
          "metadata": {},
          "execution_count": 22
        }
      ]
    },
    {
      "cell_type": "code",
      "source": [],
      "metadata": {
        "id": "ks7gRpAUKUcS"
      },
      "execution_count": null,
      "outputs": []
    }
  ],
  "metadata": {
    "colab": {
      "provenance": []
    },
    "kernelspec": {
      "display_name": "Python 3",
      "name": "python3"
    }
  },
  "nbformat": 4,
  "nbformat_minor": 0
}